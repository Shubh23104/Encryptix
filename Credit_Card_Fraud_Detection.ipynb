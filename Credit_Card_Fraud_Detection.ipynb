{
  "nbformat": 4,
  "nbformat_minor": 0,
  "metadata": {
    "colab": {
      "provenance": [],
      "authorship_tag": "ABX9TyPTWIWQVp8tG6Q2A/SdRSnB",
      "include_colab_link": true
    },
    "kernelspec": {
      "name": "python3",
      "display_name": "Python 3"
    },
    "language_info": {
      "name": "python"
    }
  },
  "cells": [
    {
      "cell_type": "markdown",
      "metadata": {
        "id": "view-in-github",
        "colab_type": "text"
      },
      "source": [
        "<a href=\"https://colab.research.google.com/github/Shubh23104/Encryptix/blob/main/Credit_Card_Fraud_Detection.ipynb\" target=\"_parent\"><img src=\"https://colab.research.google.com/assets/colab-badge.svg\" alt=\"Open In Colab\"/></a>"
      ]
    },
    {
      "cell_type": "code",
      "execution_count": 1,
      "metadata": {
        "id": "iB0XDh1dfzGr"
      },
      "outputs": [],
      "source": [
        "import numpy as np\n",
        "import pandas as pd\n",
        "import matplotlib.pyplot as plt\n",
        "import seaborn as sns\n",
        "from pylab import rcParams"
      ]
    },
    {
      "cell_type": "code",
      "source": [
        "train_data=pd.read_csv('fraudTrain.csv')\n",
        "test_data = pd.read_csv('fraudTest.csv')"
      ],
      "metadata": {
        "id": "mcIYM05FgHId"
      },
      "execution_count": 2,
      "outputs": []
    },
    {
      "cell_type": "code",
      "source": [
        "train_data.head()"
      ],
      "metadata": {
        "colab": {
          "base_uri": "https://localhost:8080/",
          "height": 551
        },
        "id": "Y0SkXv2ngN38",
        "outputId": "0a3fd204-45ad-4dad-a514-d2ac4be68f78"
      },
      "execution_count": 3,
      "outputs": [
        {
          "output_type": "execute_result",
          "data": {
            "text/plain": [
              "   Unnamed: 0 trans_date_trans_time        cc_num  \\\n",
              "0           0   2019-01-01 00:00:18  2.703186e+15   \n",
              "1           1   2019-01-01 00:00:44  6.304233e+11   \n",
              "2           2   2019-01-01 00:00:51  3.885949e+13   \n",
              "3           3   2019-01-01 00:01:16  3.534094e+15   \n",
              "4           4   2019-01-01 00:03:06  3.755342e+14   \n",
              "\n",
              "                             merchant       category     amt      first  \\\n",
              "0          fraud_Rippin, Kub and Mann       misc_net    4.97   Jennifer   \n",
              "1     fraud_Heller, Gutmann and Zieme    grocery_pos  107.23  Stephanie   \n",
              "2                fraud_Lind-Buckridge  entertainment  220.11     Edward   \n",
              "3  fraud_Kutch, Hermiston and Farrell  gas_transport   45.00     Jeremy   \n",
              "4                 fraud_Keeling-Crist       misc_pos   41.96      Tyler   \n",
              "\n",
              "      last gender                        street  ...      lat      long  \\\n",
              "0    Banks      F                561 Perry Cove  ...  36.0788  -81.1781   \n",
              "1     Gill      F  43039 Riley Greens Suite 393  ...  48.8878 -118.2105   \n",
              "2  Sanchez      M      594 White Dale Suite 530  ...  42.1808 -112.2620   \n",
              "3    White      M   9443 Cynthia Court Apt. 038  ...  46.2306 -112.1138   \n",
              "4   Garcia      M              408 Bradley Rest  ...  38.4207  -79.4629   \n",
              "\n",
              "   city_pop                                job         dob  \\\n",
              "0    3495.0          Psychologist, counselling  1988-03-09   \n",
              "1     149.0  Special educational needs teacher  1978-06-21   \n",
              "2    4154.0        Nature conservation officer  1962-01-19   \n",
              "3    1939.0                    Patent attorney  1967-01-12   \n",
              "4      99.0     Dance movement psychotherapist  1986-03-28   \n",
              "\n",
              "                          trans_num     unix_time  merch_lat  merch_long  \\\n",
              "0  0b242abb623afc578575680df30655b9  1.325376e+09  36.011293  -82.048315   \n",
              "1  1f76529f8574734946361c461b024d99  1.325376e+09  49.159047 -118.186462   \n",
              "2  a1a22d70485983eac12b5b88dad1cf95  1.325376e+09  43.150704 -112.154481   \n",
              "3  6b849c168bdad6f867558c3793159a81  1.325376e+09  47.034331 -112.561071   \n",
              "4  a41d7549acf90789359a9aa5346dcb46  1.325376e+09  38.674999  -78.632459   \n",
              "\n",
              "   is_fraud  \n",
              "0       0.0  \n",
              "1       0.0  \n",
              "2       0.0  \n",
              "3       0.0  \n",
              "4       0.0  \n",
              "\n",
              "[5 rows x 23 columns]"
            ],
            "text/html": [
              "\n",
              "  <div id=\"df-0c322cb1-eb29-45f6-9426-5a9410730d94\" class=\"colab-df-container\">\n",
              "    <div>\n",
              "<style scoped>\n",
              "    .dataframe tbody tr th:only-of-type {\n",
              "        vertical-align: middle;\n",
              "    }\n",
              "\n",
              "    .dataframe tbody tr th {\n",
              "        vertical-align: top;\n",
              "    }\n",
              "\n",
              "    .dataframe thead th {\n",
              "        text-align: right;\n",
              "    }\n",
              "</style>\n",
              "<table border=\"1\" class=\"dataframe\">\n",
              "  <thead>\n",
              "    <tr style=\"text-align: right;\">\n",
              "      <th></th>\n",
              "      <th>Unnamed: 0</th>\n",
              "      <th>trans_date_trans_time</th>\n",
              "      <th>cc_num</th>\n",
              "      <th>merchant</th>\n",
              "      <th>category</th>\n",
              "      <th>amt</th>\n",
              "      <th>first</th>\n",
              "      <th>last</th>\n",
              "      <th>gender</th>\n",
              "      <th>street</th>\n",
              "      <th>...</th>\n",
              "      <th>lat</th>\n",
              "      <th>long</th>\n",
              "      <th>city_pop</th>\n",
              "      <th>job</th>\n",
              "      <th>dob</th>\n",
              "      <th>trans_num</th>\n",
              "      <th>unix_time</th>\n",
              "      <th>merch_lat</th>\n",
              "      <th>merch_long</th>\n",
              "      <th>is_fraud</th>\n",
              "    </tr>\n",
              "  </thead>\n",
              "  <tbody>\n",
              "    <tr>\n",
              "      <th>0</th>\n",
              "      <td>0</td>\n",
              "      <td>2019-01-01 00:00:18</td>\n",
              "      <td>2.703186e+15</td>\n",
              "      <td>fraud_Rippin, Kub and Mann</td>\n",
              "      <td>misc_net</td>\n",
              "      <td>4.97</td>\n",
              "      <td>Jennifer</td>\n",
              "      <td>Banks</td>\n",
              "      <td>F</td>\n",
              "      <td>561 Perry Cove</td>\n",
              "      <td>...</td>\n",
              "      <td>36.0788</td>\n",
              "      <td>-81.1781</td>\n",
              "      <td>3495.0</td>\n",
              "      <td>Psychologist, counselling</td>\n",
              "      <td>1988-03-09</td>\n",
              "      <td>0b242abb623afc578575680df30655b9</td>\n",
              "      <td>1.325376e+09</td>\n",
              "      <td>36.011293</td>\n",
              "      <td>-82.048315</td>\n",
              "      <td>0.0</td>\n",
              "    </tr>\n",
              "    <tr>\n",
              "      <th>1</th>\n",
              "      <td>1</td>\n",
              "      <td>2019-01-01 00:00:44</td>\n",
              "      <td>6.304233e+11</td>\n",
              "      <td>fraud_Heller, Gutmann and Zieme</td>\n",
              "      <td>grocery_pos</td>\n",
              "      <td>107.23</td>\n",
              "      <td>Stephanie</td>\n",
              "      <td>Gill</td>\n",
              "      <td>F</td>\n",
              "      <td>43039 Riley Greens Suite 393</td>\n",
              "      <td>...</td>\n",
              "      <td>48.8878</td>\n",
              "      <td>-118.2105</td>\n",
              "      <td>149.0</td>\n",
              "      <td>Special educational needs teacher</td>\n",
              "      <td>1978-06-21</td>\n",
              "      <td>1f76529f8574734946361c461b024d99</td>\n",
              "      <td>1.325376e+09</td>\n",
              "      <td>49.159047</td>\n",
              "      <td>-118.186462</td>\n",
              "      <td>0.0</td>\n",
              "    </tr>\n",
              "    <tr>\n",
              "      <th>2</th>\n",
              "      <td>2</td>\n",
              "      <td>2019-01-01 00:00:51</td>\n",
              "      <td>3.885949e+13</td>\n",
              "      <td>fraud_Lind-Buckridge</td>\n",
              "      <td>entertainment</td>\n",
              "      <td>220.11</td>\n",
              "      <td>Edward</td>\n",
              "      <td>Sanchez</td>\n",
              "      <td>M</td>\n",
              "      <td>594 White Dale Suite 530</td>\n",
              "      <td>...</td>\n",
              "      <td>42.1808</td>\n",
              "      <td>-112.2620</td>\n",
              "      <td>4154.0</td>\n",
              "      <td>Nature conservation officer</td>\n",
              "      <td>1962-01-19</td>\n",
              "      <td>a1a22d70485983eac12b5b88dad1cf95</td>\n",
              "      <td>1.325376e+09</td>\n",
              "      <td>43.150704</td>\n",
              "      <td>-112.154481</td>\n",
              "      <td>0.0</td>\n",
              "    </tr>\n",
              "    <tr>\n",
              "      <th>3</th>\n",
              "      <td>3</td>\n",
              "      <td>2019-01-01 00:01:16</td>\n",
              "      <td>3.534094e+15</td>\n",
              "      <td>fraud_Kutch, Hermiston and Farrell</td>\n",
              "      <td>gas_transport</td>\n",
              "      <td>45.00</td>\n",
              "      <td>Jeremy</td>\n",
              "      <td>White</td>\n",
              "      <td>M</td>\n",
              "      <td>9443 Cynthia Court Apt. 038</td>\n",
              "      <td>...</td>\n",
              "      <td>46.2306</td>\n",
              "      <td>-112.1138</td>\n",
              "      <td>1939.0</td>\n",
              "      <td>Patent attorney</td>\n",
              "      <td>1967-01-12</td>\n",
              "      <td>6b849c168bdad6f867558c3793159a81</td>\n",
              "      <td>1.325376e+09</td>\n",
              "      <td>47.034331</td>\n",
              "      <td>-112.561071</td>\n",
              "      <td>0.0</td>\n",
              "    </tr>\n",
              "    <tr>\n",
              "      <th>4</th>\n",
              "      <td>4</td>\n",
              "      <td>2019-01-01 00:03:06</td>\n",
              "      <td>3.755342e+14</td>\n",
              "      <td>fraud_Keeling-Crist</td>\n",
              "      <td>misc_pos</td>\n",
              "      <td>41.96</td>\n",
              "      <td>Tyler</td>\n",
              "      <td>Garcia</td>\n",
              "      <td>M</td>\n",
              "      <td>408 Bradley Rest</td>\n",
              "      <td>...</td>\n",
              "      <td>38.4207</td>\n",
              "      <td>-79.4629</td>\n",
              "      <td>99.0</td>\n",
              "      <td>Dance movement psychotherapist</td>\n",
              "      <td>1986-03-28</td>\n",
              "      <td>a41d7549acf90789359a9aa5346dcb46</td>\n",
              "      <td>1.325376e+09</td>\n",
              "      <td>38.674999</td>\n",
              "      <td>-78.632459</td>\n",
              "      <td>0.0</td>\n",
              "    </tr>\n",
              "  </tbody>\n",
              "</table>\n",
              "<p>5 rows × 23 columns</p>\n",
              "</div>\n",
              "    <div class=\"colab-df-buttons\">\n",
              "\n",
              "  <div class=\"colab-df-container\">\n",
              "    <button class=\"colab-df-convert\" onclick=\"convertToInteractive('df-0c322cb1-eb29-45f6-9426-5a9410730d94')\"\n",
              "            title=\"Convert this dataframe to an interactive table.\"\n",
              "            style=\"display:none;\">\n",
              "\n",
              "  <svg xmlns=\"http://www.w3.org/2000/svg\" height=\"24px\" viewBox=\"0 -960 960 960\">\n",
              "    <path d=\"M120-120v-720h720v720H120Zm60-500h600v-160H180v160Zm220 220h160v-160H400v160Zm0 220h160v-160H400v160ZM180-400h160v-160H180v160Zm440 0h160v-160H620v160ZM180-180h160v-160H180v160Zm440 0h160v-160H620v160Z\"/>\n",
              "  </svg>\n",
              "    </button>\n",
              "\n",
              "  <style>\n",
              "    .colab-df-container {\n",
              "      display:flex;\n",
              "      gap: 12px;\n",
              "    }\n",
              "\n",
              "    .colab-df-convert {\n",
              "      background-color: #E8F0FE;\n",
              "      border: none;\n",
              "      border-radius: 50%;\n",
              "      cursor: pointer;\n",
              "      display: none;\n",
              "      fill: #1967D2;\n",
              "      height: 32px;\n",
              "      padding: 0 0 0 0;\n",
              "      width: 32px;\n",
              "    }\n",
              "\n",
              "    .colab-df-convert:hover {\n",
              "      background-color: #E2EBFA;\n",
              "      box-shadow: 0px 1px 2px rgba(60, 64, 67, 0.3), 0px 1px 3px 1px rgba(60, 64, 67, 0.15);\n",
              "      fill: #174EA6;\n",
              "    }\n",
              "\n",
              "    .colab-df-buttons div {\n",
              "      margin-bottom: 4px;\n",
              "    }\n",
              "\n",
              "    [theme=dark] .colab-df-convert {\n",
              "      background-color: #3B4455;\n",
              "      fill: #D2E3FC;\n",
              "    }\n",
              "\n",
              "    [theme=dark] .colab-df-convert:hover {\n",
              "      background-color: #434B5C;\n",
              "      box-shadow: 0px 1px 3px 1px rgba(0, 0, 0, 0.15);\n",
              "      filter: drop-shadow(0px 1px 2px rgba(0, 0, 0, 0.3));\n",
              "      fill: #FFFFFF;\n",
              "    }\n",
              "  </style>\n",
              "\n",
              "    <script>\n",
              "      const buttonEl =\n",
              "        document.querySelector('#df-0c322cb1-eb29-45f6-9426-5a9410730d94 button.colab-df-convert');\n",
              "      buttonEl.style.display =\n",
              "        google.colab.kernel.accessAllowed ? 'block' : 'none';\n",
              "\n",
              "      async function convertToInteractive(key) {\n",
              "        const element = document.querySelector('#df-0c322cb1-eb29-45f6-9426-5a9410730d94');\n",
              "        const dataTable =\n",
              "          await google.colab.kernel.invokeFunction('convertToInteractive',\n",
              "                                                    [key], {});\n",
              "        if (!dataTable) return;\n",
              "\n",
              "        const docLinkHtml = 'Like what you see? Visit the ' +\n",
              "          '<a target=\"_blank\" href=https://colab.research.google.com/notebooks/data_table.ipynb>data table notebook</a>'\n",
              "          + ' to learn more about interactive tables.';\n",
              "        element.innerHTML = '';\n",
              "        dataTable['output_type'] = 'display_data';\n",
              "        await google.colab.output.renderOutput(dataTable, element);\n",
              "        const docLink = document.createElement('div');\n",
              "        docLink.innerHTML = docLinkHtml;\n",
              "        element.appendChild(docLink);\n",
              "      }\n",
              "    </script>\n",
              "  </div>\n",
              "\n",
              "\n",
              "<div id=\"df-85ee7c46-748a-4b62-8f25-f277be597760\">\n",
              "  <button class=\"colab-df-quickchart\" onclick=\"quickchart('df-85ee7c46-748a-4b62-8f25-f277be597760')\"\n",
              "            title=\"Suggest charts\"\n",
              "            style=\"display:none;\">\n",
              "\n",
              "<svg xmlns=\"http://www.w3.org/2000/svg\" height=\"24px\"viewBox=\"0 0 24 24\"\n",
              "     width=\"24px\">\n",
              "    <g>\n",
              "        <path d=\"M19 3H5c-1.1 0-2 .9-2 2v14c0 1.1.9 2 2 2h14c1.1 0 2-.9 2-2V5c0-1.1-.9-2-2-2zM9 17H7v-7h2v7zm4 0h-2V7h2v10zm4 0h-2v-4h2v4z\"/>\n",
              "    </g>\n",
              "</svg>\n",
              "  </button>\n",
              "\n",
              "<style>\n",
              "  .colab-df-quickchart {\n",
              "      --bg-color: #E8F0FE;\n",
              "      --fill-color: #1967D2;\n",
              "      --hover-bg-color: #E2EBFA;\n",
              "      --hover-fill-color: #174EA6;\n",
              "      --disabled-fill-color: #AAA;\n",
              "      --disabled-bg-color: #DDD;\n",
              "  }\n",
              "\n",
              "  [theme=dark] .colab-df-quickchart {\n",
              "      --bg-color: #3B4455;\n",
              "      --fill-color: #D2E3FC;\n",
              "      --hover-bg-color: #434B5C;\n",
              "      --hover-fill-color: #FFFFFF;\n",
              "      --disabled-bg-color: #3B4455;\n",
              "      --disabled-fill-color: #666;\n",
              "  }\n",
              "\n",
              "  .colab-df-quickchart {\n",
              "    background-color: var(--bg-color);\n",
              "    border: none;\n",
              "    border-radius: 50%;\n",
              "    cursor: pointer;\n",
              "    display: none;\n",
              "    fill: var(--fill-color);\n",
              "    height: 32px;\n",
              "    padding: 0;\n",
              "    width: 32px;\n",
              "  }\n",
              "\n",
              "  .colab-df-quickchart:hover {\n",
              "    background-color: var(--hover-bg-color);\n",
              "    box-shadow: 0 1px 2px rgba(60, 64, 67, 0.3), 0 1px 3px 1px rgba(60, 64, 67, 0.15);\n",
              "    fill: var(--button-hover-fill-color);\n",
              "  }\n",
              "\n",
              "  .colab-df-quickchart-complete:disabled,\n",
              "  .colab-df-quickchart-complete:disabled:hover {\n",
              "    background-color: var(--disabled-bg-color);\n",
              "    fill: var(--disabled-fill-color);\n",
              "    box-shadow: none;\n",
              "  }\n",
              "\n",
              "  .colab-df-spinner {\n",
              "    border: 2px solid var(--fill-color);\n",
              "    border-color: transparent;\n",
              "    border-bottom-color: var(--fill-color);\n",
              "    animation:\n",
              "      spin 1s steps(1) infinite;\n",
              "  }\n",
              "\n",
              "  @keyframes spin {\n",
              "    0% {\n",
              "      border-color: transparent;\n",
              "      border-bottom-color: var(--fill-color);\n",
              "      border-left-color: var(--fill-color);\n",
              "    }\n",
              "    20% {\n",
              "      border-color: transparent;\n",
              "      border-left-color: var(--fill-color);\n",
              "      border-top-color: var(--fill-color);\n",
              "    }\n",
              "    30% {\n",
              "      border-color: transparent;\n",
              "      border-left-color: var(--fill-color);\n",
              "      border-top-color: var(--fill-color);\n",
              "      border-right-color: var(--fill-color);\n",
              "    }\n",
              "    40% {\n",
              "      border-color: transparent;\n",
              "      border-right-color: var(--fill-color);\n",
              "      border-top-color: var(--fill-color);\n",
              "    }\n",
              "    60% {\n",
              "      border-color: transparent;\n",
              "      border-right-color: var(--fill-color);\n",
              "    }\n",
              "    80% {\n",
              "      border-color: transparent;\n",
              "      border-right-color: var(--fill-color);\n",
              "      border-bottom-color: var(--fill-color);\n",
              "    }\n",
              "    90% {\n",
              "      border-color: transparent;\n",
              "      border-bottom-color: var(--fill-color);\n",
              "    }\n",
              "  }\n",
              "</style>\n",
              "\n",
              "  <script>\n",
              "    async function quickchart(key) {\n",
              "      const quickchartButtonEl =\n",
              "        document.querySelector('#' + key + ' button');\n",
              "      quickchartButtonEl.disabled = true;  // To prevent multiple clicks.\n",
              "      quickchartButtonEl.classList.add('colab-df-spinner');\n",
              "      try {\n",
              "        const charts = await google.colab.kernel.invokeFunction(\n",
              "            'suggestCharts', [key], {});\n",
              "      } catch (error) {\n",
              "        console.error('Error during call to suggestCharts:', error);\n",
              "      }\n",
              "      quickchartButtonEl.classList.remove('colab-df-spinner');\n",
              "      quickchartButtonEl.classList.add('colab-df-quickchart-complete');\n",
              "    }\n",
              "    (() => {\n",
              "      let quickchartButtonEl =\n",
              "        document.querySelector('#df-85ee7c46-748a-4b62-8f25-f277be597760 button');\n",
              "      quickchartButtonEl.style.display =\n",
              "        google.colab.kernel.accessAllowed ? 'block' : 'none';\n",
              "    })();\n",
              "  </script>\n",
              "</div>\n",
              "\n",
              "    </div>\n",
              "  </div>\n"
            ],
            "application/vnd.google.colaboratory.intrinsic+json": {
              "type": "dataframe",
              "variable_name": "train_data"
            }
          },
          "metadata": {},
          "execution_count": 3
        }
      ]
    },
    {
      "cell_type": "code",
      "source": [
        "train_data.isnull().sum()"
      ],
      "metadata": {
        "colab": {
          "base_uri": "https://localhost:8080/"
        },
        "id": "CT878mP7gZcg",
        "outputId": "60dfef9f-fda2-4bfb-8169-9331dfca6ac9"
      },
      "execution_count": 6,
      "outputs": [
        {
          "output_type": "execute_result",
          "data": {
            "text/plain": [
              "Unnamed: 0               0\n",
              "trans_date_trans_time    0\n",
              "cc_num                   1\n",
              "merchant                 1\n",
              "category                 1\n",
              "amt                      1\n",
              "first                    1\n",
              "last                     1\n",
              "gender                   1\n",
              "street                   1\n",
              "city                     1\n",
              "state                    1\n",
              "zip                      1\n",
              "lat                      1\n",
              "long                     1\n",
              "city_pop                 1\n",
              "job                      1\n",
              "dob                      1\n",
              "trans_num                1\n",
              "unix_time                1\n",
              "merch_lat                1\n",
              "merch_long               1\n",
              "is_fraud                 1\n",
              "dtype: int64"
            ]
          },
          "metadata": {},
          "execution_count": 6
        }
      ]
    },
    {
      "cell_type": "code",
      "source": [
        "test_data.isnull().sum()"
      ],
      "metadata": {
        "colab": {
          "base_uri": "https://localhost:8080/"
        },
        "id": "JkJL29_cLqqK",
        "outputId": "2306ee25-0a31-4a80-c143-8b59102a2c32"
      },
      "execution_count": 7,
      "outputs": [
        {
          "output_type": "execute_result",
          "data": {
            "text/plain": [
              "Unnamed: 0               0\n",
              "trans_date_trans_time    0\n",
              "cc_num                   0\n",
              "merchant                 0\n",
              "category                 0\n",
              "amt                      0\n",
              "first                    0\n",
              "last                     0\n",
              "gender                   0\n",
              "street                   0\n",
              "city                     0\n",
              "state                    0\n",
              "zip                      0\n",
              "lat                      0\n",
              "long                     0\n",
              "city_pop                 0\n",
              "job                      0\n",
              "dob                      0\n",
              "trans_num                0\n",
              "unix_time                0\n",
              "merch_lat                0\n",
              "merch_long               1\n",
              "is_fraud                 1\n",
              "dtype: int64"
            ]
          },
          "metadata": {},
          "execution_count": 7
        }
      ]
    },
    {
      "cell_type": "code",
      "source": [
        "train_data.drop(['Unnamed: 0'], axis=1,inplace=True)"
      ],
      "metadata": {
        "id": "HiUwWDo1LuDE"
      },
      "execution_count": 13,
      "outputs": []
    },
    {
      "cell_type": "code",
      "source": [
        "test_data.drop(['Unnamed: 0'],axis=1,inplace=True)"
      ],
      "metadata": {
        "id": "5QLaZYQYMOdR"
      },
      "execution_count": 14,
      "outputs": []
    },
    {
      "cell_type": "code",
      "source": [
        "train_data.info()"
      ],
      "metadata": {
        "colab": {
          "base_uri": "https://localhost:8080/"
        },
        "id": "RKnmDBOyghaB",
        "outputId": "302f3223-c262-402b-92b3-46efc26398b8"
      },
      "execution_count": 34,
      "outputs": [
        {
          "output_type": "stream",
          "name": "stdout",
          "text": [
            "<class 'pandas.core.frame.DataFrame'>\n",
            "Index: 19475 entries, 0 to 19474\n",
            "Data columns (total 6 columns):\n",
            " #   Column    Non-Null Count  Dtype  \n",
            "---  ------    --------------  -----  \n",
            " 0   gender    19475 non-null  int64  \n",
            " 1   category  19475 non-null  int64  \n",
            " 2   amt       19475 non-null  float64\n",
            " 3   city      19475 non-null  int64  \n",
            " 4   job       19475 non-null  int64  \n",
            " 5   is_fraud  19475 non-null  float64\n",
            "dtypes: float64(2), int64(4)\n",
            "memory usage: 1.0 MB\n"
          ]
        }
      ]
    },
    {
      "cell_type": "code",
      "source": [
        "test_data.info()"
      ],
      "metadata": {
        "colab": {
          "base_uri": "https://localhost:8080/"
        },
        "id": "m0MKT8T3MnDy",
        "outputId": "9df290bf-c651-4f16-c8ac-592163563218"
      },
      "execution_count": 36,
      "outputs": [
        {
          "output_type": "stream",
          "name": "stdout",
          "text": [
            "<class 'pandas.core.frame.DataFrame'>\n",
            "Index: 15581 entries, 0 to 15580\n",
            "Data columns (total 6 columns):\n",
            " #   Column    Non-Null Count  Dtype  \n",
            "---  ------    --------------  -----  \n",
            " 0   gender    15581 non-null  int64  \n",
            " 1   category  15581 non-null  int64  \n",
            " 2   amt       15581 non-null  float64\n",
            " 3   city      15581 non-null  int64  \n",
            " 4   job       15581 non-null  int64  \n",
            " 5   is_fraud  15581 non-null  float64\n",
            "dtypes: float64(2), int64(4)\n",
            "memory usage: 852.1 KB\n"
          ]
        }
      ]
    },
    {
      "cell_type": "code",
      "source": [
        "train_data.dropna(inplace=True)"
      ],
      "metadata": {
        "id": "TjpiFE2_MsSa"
      },
      "execution_count": 17,
      "outputs": []
    },
    {
      "cell_type": "code",
      "source": [
        "test_data.dropna(inplace=True)"
      ],
      "metadata": {
        "id": "vynF4_pJM9FY"
      },
      "execution_count": 19,
      "outputs": []
    },
    {
      "cell_type": "code",
      "source": [
        "print(f\"Gender:{train_data['gender'].unique()}\")\n",
        "print(f\"Category:{train_data['category'].unique()}\")\n",
        "print(f\"City:{train_data['city'].unique()}\")\n",
        "print(f\"Job:{train_data['job'].unique()}\")"
      ],
      "metadata": {
        "colab": {
          "base_uri": "https://localhost:8080/"
        },
        "id": "yTeqnwjqNE-X",
        "outputId": "d40e227a-1a39-4df0-8e74-b7129a7c4190"
      },
      "execution_count": 31,
      "outputs": [
        {
          "output_type": "stream",
          "name": "stdout",
          "text": [
            "Gender:[1 0]\n",
            "Category:[8 4 0 2 9 3 11 12 1 10 5 13 7 6]\n",
            "City:[493 568 439 81 203 209 331 221 445 140 138 695 674 292 326 306 395 116\n",
            " 303 229 472 499 602 457 789 43 655 258 335 772 810 751 638 50 784 68 61\n",
            " 253 11 495 236 130 746 543 406 281 160 522 734 235 657 605 180 362 544 35\n",
            " 132 232 736 25 263 82 316 678 664 168 632 770 765 516 744 584 129 257 238\n",
            " 93 699 70 545 333 418 330 465 227 482 201 85 337 313 378 665 40 620 696\n",
            " 435 703 150 410 448 811 526 299 10 372 700 334 88 587 809 750 213 167 230\n",
            " 267 425 224 101 206 44 252 807 796 409 368 105 792 573 72 183 689 663 363\n",
            " 347 329 1 111 706 598 513 466 578 365 58 808 730 423 26 673 270 242 247\n",
            " 381 719 413 374 430 373 470 606 426 612 128 155 220 797 459 514 366 471\n",
            " 73 300 780 586 708 147 637 47 115 383 599 529 548 463 759 45 676 92 754\n",
            " 440 572 761 240 453 635 793 791 613 290 80 512 783 469 131 95 31 351 191\n",
            " 106 781 135 3 148 500 802 594 367 260 669 375 287 399 650 420 13 307 117\n",
            " 830 197 37 179 824 562 475 21 442 332 211 588 71 170 743 259 661 75 158\n",
            " 431 34 542 283 477 490 100 705 172 379 309 193 261 97 54 325 32 251 22\n",
            " 346 812 159 319 614 190 342 565 62 491 725 27 222 449 610 87 739 273 226\n",
            " 401 441 234 17 654 617 74 91 277 740 284 394 798 8 592 6 687 41 403 178\n",
            " 443 509 769 90 305 42 249 265 286 53 480 291 762 547 649 15 574 631 505\n",
            " 593 601 804 749 640 239 691 182 422 152 535 114 732 184 741 262 217 207\n",
            " 438 583 563 467 248 550 591 102 59 377 726 110 39 23 615 659 415 748 767\n",
            " 646 302 123 540 255 52 136 24 120 679 20 405 343 126 393 200 86 826 745\n",
            " 694 760 345 828 162 398 778 275 833 692 823 461 478 534 243 198 67 107\n",
            " 272 49 434 208 108 436 352 169 819 339 141 690 818 559 713 556 579 104\n",
            " 523 684 785 228 677 452 256 389 96 487 237 112 353 324 411 510 508 322\n",
            " 199 502 246 834 433 323 164 822 458 590 144 816 386 392 327 315 9 609 402\n",
            " 503 546 497 161 681 127 310 450 274 254 710 174 396 567 782 756 555 489\n",
            " 582 653 151 245 494 712 271 702 551 94 766 336 668 142 119 671 779 134 7\n",
            " 658 763 397 581 788 156 371 644 56 231 427 803 388 697 645 814 667 454 2\n",
            " 835 165 698 488 733 295 530 711 585 266 364 468 51 832 437 166 311 244\n",
            " 755 314 294 704 492 817 216 735 349 83 507 301 210 154 660 634 64 486 65\n",
            " 285 639 517 340 12 113 122 683 338 536 666 30 829 189 737 279 446 571 16\n",
            " 752 580 344 501 424 813 376 18 686 623 624 133 139 504 799 57 629 289 628\n",
            " 596 149 727 359 561 805 656 731 60 777 176 764 473 622 672 212 187 407\n",
            " 758 479 520 219 682 801 36 464 250 163 600 124 815 577 524 531 771 369\n",
            " 223 328 790 185 476 188 528 604 157 63 626 46 527 205 19 145 722 78 515\n",
            " 806 186 312 384 496 419 693 293 297 380 721 652 296 511 481 525 716 202\n",
            " 447 825 647 566 570 175 625 675 214 412 137 714 518 651 643 553 533 66\n",
            " 125 421 718 89 742 385 264 194 233 549 451 268 143 5 354 633 564 98 641\n",
            " 29 558 358 786 196 483 774 775 298 569 630 408 348 276 680 831 99 685 670\n",
            " 320 768 532 709 118 0 417 444 280 603 361 414 723 455 282 753 400 404 595\n",
            " 77 456 370 738 662 552 171 215 103 109 576 241 636 48 341 55 597 192 539\n",
            " 506 616 278 560 33 350 356 225 621 204 575 181 707 76 717 642 800 428 146\n",
            " 608 557 619 79 308 318 84 69 177 724 627 757 387 269 538 4 485 519 484\n",
            " 462 787 14 648 218 28 729 827 821 460 317 701 173 195 357 537 153 391 554\n",
            " 38 321 688 498 820 618 607 794 304 720 541 611 416 776 432 728 390 288\n",
            " 429 355 773 360 382 747 121 474 715 589 795 521]\n",
            "Job:[356 411 294 315 110 462 27 120 361 316 229 427 158 426 295 372 350 144\n",
            " 177 306 271 339 255 105 452 55 331 138 325 296 192 202 33 116 308 357 258\n",
            " 188 398 377 455 224 423 26 465 108 376 162 137 323 21 140 440 216 20 113\n",
            " 313 460 166 119 82 157 470 391 185 410 344 464 57 203 107 193 404 150 169\n",
            " 132 76 81 456 180 261 149 381 366 135 307 241 167 15 314 186 8 139 187 39\n",
            " 393 7 211 386 439 178 3 342 469 285 420 450 170 48 340 154 217 431 273\n",
            " 212 279 445 438 248 165 125 442 278 49 453 418 89 112 179 461 274 277 5\n",
            " 286 190 100 352 109 287 106 77 433 58 318 336 141 290 17 67 10 11 64 353\n",
            " 401 257 142 232 441 101 209 103 46 247 65 302 181 196 31 242 151 358 246\n",
            " 128 326 322 219 227 92 362 29 256 360 435 458 88 330 51 30 134 408 473\n",
            " 284 114 281 467 74 56 104 424 343 298 317 28 419 118 197 70 288 367 324\n",
            " 263 327 345 231 383 208 436 245 95 102 267 130 390 396 239 85 9 41 155 86\n",
            " 123 35 389 32 309 238 62 79 384 264 175 459 378 359 320 387 159 262 471\n",
            " 253 346 454 291 422 164 4 221 434 2 230 397 52 400 371 269 24 347 43 160\n",
            " 97 200 117 337 282 156 163 54 90 1 260 349 335 66 474 69 301 127 94 249\n",
            " 303 412 80 42 463 38 297 329 370 183 233 283 332 236 447 198 73 214 60 25\n",
            " 304 87 147 449 310 252 37 44 369 451 385 195 50 266 16 133 338 394 364\n",
            " 126 13 226 206 172 251 72 392 374 40 272 430 293 448 148 84 468 425 413\n",
            " 136 75 299 292 328 437 71 446 368 240 254 375 402 68 115 321 406 174 363\n",
            " 457 63 351 270 472 93 23 319 234 334 237 409 53 365 210 354 466 388 223\n",
            " 91 235 373 405 429 129 191 182 268 145 289 213 311 417 222 176 415 243 45\n",
            " 443 300 96 348 265 275 111 153 215 199 399 78 19 444 173 194 218 189 205\n",
            " 355 124 414 228 333 312 184 407 168 382 225 380 121 201 122 259 143 204\n",
            " 18 403 421 61 416 14 207 131 220 379 146 98 34 12 152 305 161 395 244 280\n",
            " 0 36 83 428 6 432 59 171 99 22 47 276 250 341]\n"
          ]
        }
      ]
    },
    {
      "cell_type": "code",
      "source": [
        "from sklearn.preprocessing import LabelEncoder\n",
        "le = LabelEncoder()\n",
        "\n",
        "# data preprocessing for Training Data\n",
        "train_data = train_data[['gender', \"category\", \"amt\", \"city\", \"job\", \"is_fraud\"]]\n",
        "\n",
        "train_data.loc[:, 'category'] = le.fit_transform(train_data[\"category\"])\n",
        "train_data.loc[:, 'city'] = le.fit_transform(train_data[\"city\"])\n",
        "train_data.loc[:, 'job'] = le.fit_transform(train_data[\"job\"])\n",
        "train_data.loc[:, 'gender'] = train_data[\"gender\"].map({'M': 0, 'F': 1})\n",
        "\n",
        "# data preprocessing for Testing Data\n",
        "test_data = test_data[['gender',\"category\",\"amt\",\"city\", \"job\",\"is_fraud\"]]\n",
        "\n",
        "test_data.loc[:, 'category'] = le.fit_transform(test_data[\"category\"])\n",
        "test_data.loc[:, 'city'] = le.fit_transform(test_data[\"city\"])\n",
        "test_data.loc[:, 'job'] = le.fit_transform(test_data[\"job\"])\n",
        "test_data.loc[:, 'gender'] = test_data[\"gender\"].map({'M': 0, 'F': 1})"
      ],
      "metadata": {
        "id": "gnBiu-kZjJAz"
      },
      "execution_count": 28,
      "outputs": []
    },
    {
      "cell_type": "code",
      "source": [
        "train_data['gender'] = train_data['gender'].astype(int)\n",
        "train_data['category'] = train_data['category'].astype(int)\n",
        "train_data['city'] = train_data['city'].astype(int)\n",
        "train_data['job'] = train_data['job'].astype(int)"
      ],
      "metadata": {
        "id": "dH3fGYraOdvG"
      },
      "execution_count": 33,
      "outputs": []
    },
    {
      "cell_type": "code",
      "source": [
        "test_data['gender'] = test_data['gender'].astype(int)\n",
        "test_data['category'] = test_data['category'].astype(int)\n",
        "test_data['city'] = test_data['city'].astype(int)\n",
        "test_data['job'] = test_data['job'].astype(int)"
      ],
      "metadata": {
        "id": "XxUdae1YPERD"
      },
      "execution_count": 35,
      "outputs": []
    },
    {
      "cell_type": "code",
      "source": [
        "X_train = train_data[['gender', \"category\", \"amt\", \"city\", \"job\"]]\n",
        "y_train = train_data[\"is_fraud\"]\n",
        "\n",
        "X_test = test_data[['gender', \"category\", \"amt\", \"city\", \"job\"]]\n",
        "y_test = test_data[\"is_fraud\"]"
      ],
      "metadata": {
        "id": "vA_nXWA5jU5w"
      },
      "execution_count": 46,
      "outputs": []
    },
    {
      "cell_type": "code",
      "source": [
        "train_data.shape"
      ],
      "metadata": {
        "colab": {
          "base_uri": "https://localhost:8080/"
        },
        "id": "yLZa5bA8gm97",
        "outputId": "2897fcfb-d591-4472-e79c-9949c33a3d21"
      },
      "execution_count": 38,
      "outputs": [
        {
          "output_type": "execute_result",
          "data": {
            "text/plain": [
              "(19475, 6)"
            ]
          },
          "metadata": {},
          "execution_count": 38
        }
      ]
    },
    {
      "cell_type": "code",
      "source": [
        "train_data.columns"
      ],
      "metadata": {
        "colab": {
          "base_uri": "https://localhost:8080/"
        },
        "id": "InS3oMpjgpa6",
        "outputId": "7c2fb67f-e4ee-4351-98d9-122d6c322e71"
      },
      "execution_count": 39,
      "outputs": [
        {
          "output_type": "execute_result",
          "data": {
            "text/plain": [
              "Index(['gender', 'category', 'amt', 'city', 'job', 'is_fraud'], dtype='object')"
            ]
          },
          "metadata": {},
          "execution_count": 39
        }
      ]
    },
    {
      "cell_type": "code",
      "source": [
        "test_data.shape"
      ],
      "metadata": {
        "colab": {
          "base_uri": "https://localhost:8080/"
        },
        "id": "Pw-cf647PTYl",
        "outputId": "74a48aa0-43f8-49a5-ed0a-13eb6a299fc8"
      },
      "execution_count": 40,
      "outputs": [
        {
          "output_type": "execute_result",
          "data": {
            "text/plain": [
              "(15581, 6)"
            ]
          },
          "metadata": {},
          "execution_count": 40
        }
      ]
    },
    {
      "cell_type": "code",
      "source": [
        "test_data.columns"
      ],
      "metadata": {
        "colab": {
          "base_uri": "https://localhost:8080/"
        },
        "id": "a4XpxWtfPWyq",
        "outputId": "89ee05f1-b37f-4101-ed42-43b22a0897ef"
      },
      "execution_count": 41,
      "outputs": [
        {
          "output_type": "execute_result",
          "data": {
            "text/plain": [
              "Index(['gender', 'category', 'amt', 'city', 'job', 'is_fraud'], dtype='object')"
            ]
          },
          "metadata": {},
          "execution_count": 41
        }
      ]
    },
    {
      "cell_type": "code",
      "source": [
        "plt.figure(figsize=(10,8))\n",
        "corr=train_data.corr()\n",
        "sns.heatmap(corr,annot=True)"
      ],
      "metadata": {
        "colab": {
          "base_uri": "https://localhost:8080/",
          "height": 699
        },
        "id": "yVqz5M4whMjW",
        "outputId": "f8abfea7-09fe-4f0e-eac7-3d3dfafecd71"
      },
      "execution_count": 43,
      "outputs": [
        {
          "output_type": "execute_result",
          "data": {
            "text/plain": [
              "<Axes: >"
            ]
          },
          "metadata": {},
          "execution_count": 43
        },
        {
          "output_type": "display_data",
          "data": {
            "text/plain": [
              "<Figure size 1000x800 with 2 Axes>"
            ],
            "image/png": "[encoded data removed]"
          },
          "metadata": {}
        }
      ]
    },
    {
      "cell_type": "code",
      "source": [
        "from sklearn.ensemble import RandomForestClassifier"
      ],
      "metadata": {
        "id": "zSiwc7BDha0g"
      },
      "execution_count": 44,
      "outputs": []
    },
    {
      "cell_type": "code",
      "source": [
        "rfc=RandomForestClassifier()\n",
        "model=rfc.fit(X_train,y_train)\n",
        "prediction=model.predict(X_test)"
      ],
      "metadata": {
        "id": "9zCJSPS4hh2T"
      },
      "execution_count": 47,
      "outputs": []
    },
    {
      "cell_type": "code",
      "source": [
        "from sklearn.metrics import accuracy_score"
      ],
      "metadata": {
        "id": "ECHpvlf8hiz5"
      },
      "execution_count": 48,
      "outputs": []
    },
    {
      "cell_type": "code",
      "source": [
        "accuracy_score(y_test,prediction)"
      ],
      "metadata": {
        "colab": {
          "base_uri": "https://localhost:8080/"
        },
        "id": "d3fiaEvVhl8-",
        "outputId": "fc4ac09f-fad7-456b-eac1-79943d9b8d1c"
      },
      "execution_count": 49,
      "outputs": [
        {
          "output_type": "execute_result",
          "data": {
            "text/plain": [
              "0.9971118670175213"
            ]
          },
          "metadata": {},
          "execution_count": 49
        }
      ]
    },
    {
      "cell_type": "code",
      "source": [
        "from sklearn.linear_model import LogisticRegression"
      ],
      "metadata": {
        "id": "k8j6noOqhmzf"
      },
      "execution_count": 50,
      "outputs": []
    },
    {
      "cell_type": "code",
      "source": [
        "lr=LogisticRegression()\n",
        "model2=lr.fit(X_train,y_train)\n",
        "prediction2=model2.predict(X_test)"
      ],
      "metadata": {
        "id": "3YvUPro9hsTn"
      },
      "execution_count": 52,
      "outputs": []
    },
    {
      "cell_type": "code",
      "source": [
        "accuracy_score(y_test,prediction2)"
      ],
      "metadata": {
        "colab": {
          "base_uri": "https://localhost:8080/"
        },
        "id": "Ypbjn_nQhvPW",
        "outputId": "a0697478-2e5f-44f2-d249-39752511be98"
      },
      "execution_count": 54,
      "outputs": [
        {
          "output_type": "execute_result",
          "data": {
            "text/plain": [
              "0.9959566138245298"
            ]
          },
          "metadata": {},
          "execution_count": 54
        }
      ]
    },
    {
      "cell_type": "code",
      "source": [
        "from sklearn.tree import DecisionTreeRegressor"
      ],
      "metadata": {
        "id": "p7zu4ODrhyJe"
      },
      "execution_count": 55,
      "outputs": []
    },
    {
      "cell_type": "code",
      "source": [
        "dt=DecisionTreeRegressor()\n",
        "model3=dt.fit(X_train,y_train)\n",
        "prediction3=model3.predict(X_test)"
      ],
      "metadata": {
        "id": "L3i4-DpDh4-L"
      },
      "execution_count": 56,
      "outputs": []
    },
    {
      "cell_type": "code",
      "source": [
        "accuracy_score(y_test,prediction3)"
      ],
      "metadata": {
        "colab": {
          "base_uri": "https://localhost:8080/"
        },
        "id": "18LPituTh79m",
        "outputId": "8d4bbae4-5777-4e1d-e8f6-4fe54c4760c5"
      },
      "execution_count": 57,
      "outputs": [
        {
          "output_type": "execute_result",
          "data": {
            "text/plain": [
              "0.9963416982221937"
            ]
          },
          "metadata": {},
          "execution_count": 57
        }
      ]
    },
    {
      "cell_type": "code",
      "source": [],
      "metadata": {
        "id": "LsnZGzokr-rC"
      },
      "execution_count": null,
      "outputs": []
    }
  ]
}