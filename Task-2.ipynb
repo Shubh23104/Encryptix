{
  "nbformat": 4,
  "nbformat_minor": 0,
  "metadata": {
    "colab": {
      "provenance": [],
      "authorship_tag": "ABX9TyPi10wq13T14xT575LVZKoM",
      "include_colab_link": true
    },
    "kernelspec": {
      "name": "python3",
      "display_name": "Python 3"
    },
    "language_info": {
      "name": "python"
    }
  },
  "cells": [
    {
      "cell_type": "markdown",
      "metadata": {
        "id": "view-in-github",
        "colab_type": "text"
      },
      "source": [
        "<a href=\"https://colab.research.google.com/github/Shubh23104/Encryptix/blob/main/Task-2.ipynb\" target=\"_parent\"><img src=\"https://colab.research.google.com/assets/colab-badge.svg\" alt=\"Open In Colab\"/></a>"
      ]
    },
    {
      "cell_type": "code",
      "execution_count": null,
      "metadata": {
        "id": "iB0XDh1dfzGr"
      },
      "outputs": [],
      "source": [
        "import numpy as np\n",
        "import pandas as pd\n",
        "import matplotlib.pyplot as plt\n",
        "import seaborn as sns\n",
        "from pylab import rcParams"
      ]
    },
    {
      "cell_type": "code",
      "source": [
        "train_data=pd.read_csv('fraudTrain.csv')\n",
        "test_data = pd.read_csv('fraudTest.csv')"
      ],
      "metadata": {
        "id": "mcIYM05FgHId"
      },
      "execution_count": null,
      "outputs": []
    },
    {
      "cell_type": "code",
      "source": [
        "train_data.head()"
      ],
      "metadata": {
        "colab": {
          "base_uri": "https://localhost:8080/",
          "height": 551
        },
        "id": "Y0SkXv2ngN38",
        "outputId": "64527e1b-496c-41e4-a43a-9528ff5d6362"
      },
      "execution_count": null,
      "outputs": [
        {
          "output_type": "execute_result",
          "data": {
            "text/plain": [
              "   Unnamed: 0 trans_date_trans_time            cc_num  \\\n",
              "0           0   2019-01-01 00:00:18  2703186189652095   \n",
              "1           1   2019-01-01 00:00:44      630423337322   \n",
              "2           2   2019-01-01 00:00:51    38859492057661   \n",
              "3           3   2019-01-01 00:01:16  3534093764340240   \n",
              "4           4   2019-01-01 00:03:06   375534208663984   \n",
              "\n",
              "                             merchant       category     amt      first  \\\n",
              "0          fraud_Rippin, Kub and Mann       misc_net    4.97   Jennifer   \n",
              "1     fraud_Heller, Gutmann and Zieme    grocery_pos  107.23  Stephanie   \n",
              "2                fraud_Lind-Buckridge  entertainment  220.11     Edward   \n",
              "3  fraud_Kutch, Hermiston and Farrell  gas_transport   45.00     Jeremy   \n",
              "4                 fraud_Keeling-Crist       misc_pos   41.96      Tyler   \n",
              "\n",
              "      last gender                        street  ...      lat      long  \\\n",
              "0    Banks      F                561 Perry Cove  ...  36.0788  -81.1781   \n",
              "1     Gill      F  43039 Riley Greens Suite 393  ...  48.8878 -118.2105   \n",
              "2  Sanchez      M      594 White Dale Suite 530  ...  42.1808 -112.2620   \n",
              "3    White      M   9443 Cynthia Court Apt. 038  ...  46.2306 -112.1138   \n",
              "4   Garcia      M              408 Bradley Rest  ...  38.4207  -79.4629   \n",
              "\n",
              "   city_pop                                job         dob  \\\n",
              "0      3495          Psychologist, counselling  1988-03-09   \n",
              "1       149  Special educational needs teacher  1978-06-21   \n",
              "2      4154        Nature conservation officer  1962-01-19   \n",
              "3      1939                    Patent attorney  1967-01-12   \n",
              "4        99     Dance movement psychotherapist  1986-03-28   \n",
              "\n",
              "                          trans_num   unix_time  merch_lat  merch_long  \\\n",
              "0  0b242abb623afc578575680df30655b9  1325376018  36.011293  -82.048315   \n",
              "1  1f76529f8574734946361c461b024d99  1325376044  49.159047 -118.186462   \n",
              "2  a1a22d70485983eac12b5b88dad1cf95  1325376051  43.150704 -112.154481   \n",
              "3  6b849c168bdad6f867558c3793159a81  1325376076  47.034331 -112.561071   \n",
              "4  a41d7549acf90789359a9aa5346dcb46  1325376186  38.674999  -78.632459   \n",
              "\n",
              "   is_fraud  \n",
              "0       0.0  \n",
              "1       0.0  \n",
              "2       0.0  \n",
              "3       0.0  \n",
              "4       0.0  \n",
              "\n",
              "[5 rows x 23 columns]"
            ],
            "text/html": [
              "\n",
              "  <div id=\"df-19d6c660-5251-427a-81ed-a83b571cf3c2\" class=\"colab-df-container\">\n",
              "    <div>\n",
              "<style scoped>\n",
              "    .dataframe tbody tr th:only-of-type {\n",
              "        vertical-align: middle;\n",
              "    }\n",
              "\n",
              "    .dataframe tbody tr th {\n",
              "        vertical-align: top;\n",
              "    }\n",
              "\n",
              "    .dataframe thead th {\n",
              "        text-align: right;\n",
              "    }\n",
              "</style>\n",
              "<table border=\"1\" class=\"dataframe\">\n",
              "  <thead>\n",
              "    <tr style=\"text-align: right;\">\n",
              "      <th></th>\n",
              "      <th>Unnamed: 0</th>\n",
              "      <th>trans_date_trans_time</th>\n",
              "      <th>cc_num</th>\n",
              "      <th>merchant</th>\n",
              "      <th>category</th>\n",
              "      <th>amt</th>\n",
              "      <th>first</th>\n",
              "      <th>last</th>\n",
              "      <th>gender</th>\n",
              "      <th>street</th>\n",
              "      <th>...</th>\n",
              "      <th>lat</th>\n",
              "      <th>long</th>\n",
              "      <th>city_pop</th>\n",
              "      <th>job</th>\n",
              "      <th>dob</th>\n",
              "      <th>trans_num</th>\n",
              "      <th>unix_time</th>\n",
              "      <th>merch_lat</th>\n",
              "      <th>merch_long</th>\n",
              "      <th>is_fraud</th>\n",
              "    </tr>\n",
              "  </thead>\n",
              "  <tbody>\n",
              "    <tr>\n",
              "      <th>0</th>\n",
              "      <td>0</td>\n",
              "      <td>2019-01-01 00:00:18</td>\n",
              "      <td>2703186189652095</td>\n",
              "      <td>fraud_Rippin, Kub and Mann</td>\n",
              "      <td>misc_net</td>\n",
              "      <td>4.97</td>\n",
              "      <td>Jennifer</td>\n",
              "      <td>Banks</td>\n",
              "      <td>F</td>\n",
              "      <td>561 Perry Cove</td>\n",
              "      <td>...</td>\n",
              "      <td>36.0788</td>\n",
              "      <td>-81.1781</td>\n",
              "      <td>3495</td>\n",
              "      <td>Psychologist, counselling</td>\n",
              "      <td>1988-03-09</td>\n",
              "      <td>0b242abb623afc578575680df30655b9</td>\n",
              "      <td>1325376018</td>\n",
              "      <td>36.011293</td>\n",
              "      <td>-82.048315</td>\n",
              "      <td>0.0</td>\n",
              "    </tr>\n",
              "    <tr>\n",
              "      <th>1</th>\n",
              "      <td>1</td>\n",
              "      <td>2019-01-01 00:00:44</td>\n",
              "      <td>630423337322</td>\n",
              "      <td>fraud_Heller, Gutmann and Zieme</td>\n",
              "      <td>grocery_pos</td>\n",
              "      <td>107.23</td>\n",
              "      <td>Stephanie</td>\n",
              "      <td>Gill</td>\n",
              "      <td>F</td>\n",
              "      <td>43039 Riley Greens Suite 393</td>\n",
              "      <td>...</td>\n",
              "      <td>48.8878</td>\n",
              "      <td>-118.2105</td>\n",
              "      <td>149</td>\n",
              "      <td>Special educational needs teacher</td>\n",
              "      <td>1978-06-21</td>\n",
              "      <td>1f76529f8574734946361c461b024d99</td>\n",
              "      <td>1325376044</td>\n",
              "      <td>49.159047</td>\n",
              "      <td>-118.186462</td>\n",
              "      <td>0.0</td>\n",
              "    </tr>\n",
              "    <tr>\n",
              "      <th>2</th>\n",
              "      <td>2</td>\n",
              "      <td>2019-01-01 00:00:51</td>\n",
              "      <td>38859492057661</td>\n",
              "      <td>fraud_Lind-Buckridge</td>\n",
              "      <td>entertainment</td>\n",
              "      <td>220.11</td>\n",
              "      <td>Edward</td>\n",
              "      <td>Sanchez</td>\n",
              "      <td>M</td>\n",
              "      <td>594 White Dale Suite 530</td>\n",
              "      <td>...</td>\n",
              "      <td>42.1808</td>\n",
              "      <td>-112.2620</td>\n",
              "      <td>4154</td>\n",
              "      <td>Nature conservation officer</td>\n",
              "      <td>1962-01-19</td>\n",
              "      <td>a1a22d70485983eac12b5b88dad1cf95</td>\n",
              "      <td>1325376051</td>\n",
              "      <td>43.150704</td>\n",
              "      <td>-112.154481</td>\n",
              "      <td>0.0</td>\n",
              "    </tr>\n",
              "    <tr>\n",
              "      <th>3</th>\n",
              "      <td>3</td>\n",
              "      <td>2019-01-01 00:01:16</td>\n",
              "      <td>3534093764340240</td>\n",
              "      <td>fraud_Kutch, Hermiston and Farrell</td>\n",
              "      <td>gas_transport</td>\n",
              "      <td>45.00</td>\n",
              "      <td>Jeremy</td>\n",
              "      <td>White</td>\n",
              "      <td>M</td>\n",
              "      <td>9443 Cynthia Court Apt. 038</td>\n",
              "      <td>...</td>\n",
              "      <td>46.2306</td>\n",
              "      <td>-112.1138</td>\n",
              "      <td>1939</td>\n",
              "      <td>Patent attorney</td>\n",
              "      <td>1967-01-12</td>\n",
              "      <td>6b849c168bdad6f867558c3793159a81</td>\n",
              "      <td>1325376076</td>\n",
              "      <td>47.034331</td>\n",
              "      <td>-112.561071</td>\n",
              "      <td>0.0</td>\n",
              "    </tr>\n",
              "    <tr>\n",
              "      <th>4</th>\n",
              "      <td>4</td>\n",
              "      <td>2019-01-01 00:03:06</td>\n",
              "      <td>375534208663984</td>\n",
              "      <td>fraud_Keeling-Crist</td>\n",
              "      <td>misc_pos</td>\n",
              "      <td>41.96</td>\n",
              "      <td>Tyler</td>\n",
              "      <td>Garcia</td>\n",
              "      <td>M</td>\n",
              "      <td>408 Bradley Rest</td>\n",
              "      <td>...</td>\n",
              "      <td>38.4207</td>\n",
              "      <td>-79.4629</td>\n",
              "      <td>99</td>\n",
              "      <td>Dance movement psychotherapist</td>\n",
              "      <td>1986-03-28</td>\n",
              "      <td>a41d7549acf90789359a9aa5346dcb46</td>\n",
              "      <td>1325376186</td>\n",
              "      <td>38.674999</td>\n",
              "      <td>-78.632459</td>\n",
              "      <td>0.0</td>\n",
              "    </tr>\n",
              "  </tbody>\n",
              "</table>\n",
              "<p>5 rows × 23 columns</p>\n",
              "</div>\n",
              "    <div class=\"colab-df-buttons\">\n",
              "\n",
              "  <div class=\"colab-df-container\">\n",
              "    <button class=\"colab-df-convert\" onclick=\"convertToInteractive('df-19d6c660-5251-427a-81ed-a83b571cf3c2')\"\n",
              "            title=\"Convert this dataframe to an interactive table.\"\n",
              "            style=\"display:none;\">\n",
              "\n",
              "  <svg xmlns=\"http://www.w3.org/2000/svg\" height=\"24px\" viewBox=\"0 -960 960 960\">\n",
              "    <path d=\"M120-120v-720h720v720H120Zm60-500h600v-160H180v160Zm220 220h160v-160H400v160Zm0 220h160v-160H400v160ZM180-400h160v-160H180v160Zm440 0h160v-160H620v160ZM180-180h160v-160H180v160Zm440 0h160v-160H620v160Z\"/>\n",
              "  </svg>\n",
              "    </button>\n",
              "\n",
              "  <style>\n",
              "    .colab-df-container {\n",
              "      display:flex;\n",
              "      gap: 12px;\n",
              "    }\n",
              "\n",
              "    .colab-df-convert {\n",
              "      background-color: #E8F0FE;\n",
              "      border: none;\n",
              "      border-radius: 50%;\n",
              "      cursor: pointer;\n",
              "      display: none;\n",
              "      fill: #1967D2;\n",
              "      height: 32px;\n",
              "      padding: 0 0 0 0;\n",
              "      width: 32px;\n",
              "    }\n",
              "\n",
              "    .colab-df-convert:hover {\n",
              "      background-color: #E2EBFA;\n",
              "      box-shadow: 0px 1px 2px rgba(60, 64, 67, 0.3), 0px 1px 3px 1px rgba(60, 64, 67, 0.15);\n",
              "      fill: #174EA6;\n",
              "    }\n",
              "\n",
              "    .colab-df-buttons div {\n",
              "      margin-bottom: 4px;\n",
              "    }\n",
              "\n",
              "    [theme=dark] .colab-df-convert {\n",
              "      background-color: #3B4455;\n",
              "      fill: #D2E3FC;\n",
              "    }\n",
              "\n",
              "    [theme=dark] .colab-df-convert:hover {\n",
              "      background-color: #434B5C;\n",
              "      box-shadow: 0px 1px 3px 1px rgba(0, 0, 0, 0.15);\n",
              "      filter: drop-shadow(0px 1px 2px rgba(0, 0, 0, 0.3));\n",
              "      fill: #FFFFFF;\n",
              "    }\n",
              "  </style>\n",
              "\n",
              "    <script>\n",
              "      const buttonEl =\n",
              "        document.querySelector('#df-19d6c660-5251-427a-81ed-a83b571cf3c2 button.colab-df-convert');\n",
              "      buttonEl.style.display =\n",
              "        google.colab.kernel.accessAllowed ? 'block' : 'none';\n",
              "\n",
              "      async function convertToInteractive(key) {\n",
              "        const element = document.querySelector('#df-19d6c660-5251-427a-81ed-a83b571cf3c2');\n",
              "        const dataTable =\n",
              "          await google.colab.kernel.invokeFunction('convertToInteractive',\n",
              "                                                    [key], {});\n",
              "        if (!dataTable) return;\n",
              "\n",
              "        const docLinkHtml = 'Like what you see? Visit the ' +\n",
              "          '<a target=\"_blank\" href=https://colab.research.google.com/notebooks/data_table.ipynb>data table notebook</a>'\n",
              "          + ' to learn more about interactive tables.';\n",
              "        element.innerHTML = '';\n",
              "        dataTable['output_type'] = 'display_data';\n",
              "        await google.colab.output.renderOutput(dataTable, element);\n",
              "        const docLink = document.createElement('div');\n",
              "        docLink.innerHTML = docLinkHtml;\n",
              "        element.appendChild(docLink);\n",
              "      }\n",
              "    </script>\n",
              "  </div>\n",
              "\n",
              "\n",
              "<div id=\"df-142987b8-d792-46fa-bf07-e3e023db0c00\">\n",
              "  <button class=\"colab-df-quickchart\" onclick=\"quickchart('df-142987b8-d792-46fa-bf07-e3e023db0c00')\"\n",
              "            title=\"Suggest charts\"\n",
              "            style=\"display:none;\">\n",
              "\n",
              "<svg xmlns=\"http://www.w3.org/2000/svg\" height=\"24px\"viewBox=\"0 0 24 24\"\n",
              "     width=\"24px\">\n",
              "    <g>\n",
              "        <path d=\"M19 3H5c-1.1 0-2 .9-2 2v14c0 1.1.9 2 2 2h14c1.1 0 2-.9 2-2V5c0-1.1-.9-2-2-2zM9 17H7v-7h2v7zm4 0h-2V7h2v10zm4 0h-2v-4h2v4z\"/>\n",
              "    </g>\n",
              "</svg>\n",
              "  </button>\n",
              "\n",
              "<style>\n",
              "  .colab-df-quickchart {\n",
              "      --bg-color: #E8F0FE;\n",
              "      --fill-color: #1967D2;\n",
              "      --hover-bg-color: #E2EBFA;\n",
              "      --hover-fill-color: #174EA6;\n",
              "      --disabled-fill-color: #AAA;\n",
              "      --disabled-bg-color: #DDD;\n",
              "  }\n",
              "\n",
              "  [theme=dark] .colab-df-quickchart {\n",
              "      --bg-color: #3B4455;\n",
              "      --fill-color: #D2E3FC;\n",
              "      --hover-bg-color: #434B5C;\n",
              "      --hover-fill-color: #FFFFFF;\n",
              "      --disabled-bg-color: #3B4455;\n",
              "      --disabled-fill-color: #666;\n",
              "  }\n",
              "\n",
              "  .colab-df-quickchart {\n",
              "    background-color: var(--bg-color);\n",
              "    border: none;\n",
              "    border-radius: 50%;\n",
              "    cursor: pointer;\n",
              "    display: none;\n",
              "    fill: var(--fill-color);\n",
              "    height: 32px;\n",
              "    padding: 0;\n",
              "    width: 32px;\n",
              "  }\n",
              "\n",
              "  .colab-df-quickchart:hover {\n",
              "    background-color: var(--hover-bg-color);\n",
              "    box-shadow: 0 1px 2px rgba(60, 64, 67, 0.3), 0 1px 3px 1px rgba(60, 64, 67, 0.15);\n",
              "    fill: var(--button-hover-fill-color);\n",
              "  }\n",
              "\n",
              "  .colab-df-quickchart-complete:disabled,\n",
              "  .colab-df-quickchart-complete:disabled:hover {\n",
              "    background-color: var(--disabled-bg-color);\n",
              "    fill: var(--disabled-fill-color);\n",
              "    box-shadow: none;\n",
              "  }\n",
              "\n",
              "  .colab-df-spinner {\n",
              "    border: 2px solid var(--fill-color);\n",
              "    border-color: transparent;\n",
              "    border-bottom-color: var(--fill-color);\n",
              "    animation:\n",
              "      spin 1s steps(1) infinite;\n",
              "  }\n",
              "\n",
              "  @keyframes spin {\n",
              "    0% {\n",
              "      border-color: transparent;\n",
              "      border-bottom-color: var(--fill-color);\n",
              "      border-left-color: var(--fill-color);\n",
              "    }\n",
              "    20% {\n",
              "      border-color: transparent;\n",
              "      border-left-color: var(--fill-color);\n",
              "      border-top-color: var(--fill-color);\n",
              "    }\n",
              "    30% {\n",
              "      border-color: transparent;\n",
              "      border-left-color: var(--fill-color);\n",
              "      border-top-color: var(--fill-color);\n",
              "      border-right-color: var(--fill-color);\n",
              "    }\n",
              "    40% {\n",
              "      border-color: transparent;\n",
              "      border-right-color: var(--fill-color);\n",
              "      border-top-color: var(--fill-color);\n",
              "    }\n",
              "    60% {\n",
              "      border-color: transparent;\n",
              "      border-right-color: var(--fill-color);\n",
              "    }\n",
              "    80% {\n",
              "      border-color: transparent;\n",
              "      border-right-color: var(--fill-color);\n",
              "      border-bottom-color: var(--fill-color);\n",
              "    }\n",
              "    90% {\n",
              "      border-color: transparent;\n",
              "      border-bottom-color: var(--fill-color);\n",
              "    }\n",
              "  }\n",
              "</style>\n",
              "\n",
              "  <script>\n",
              "    async function quickchart(key) {\n",
              "      const quickchartButtonEl =\n",
              "        document.querySelector('#' + key + ' button');\n",
              "      quickchartButtonEl.disabled = true;  // To prevent multiple clicks.\n",
              "      quickchartButtonEl.classList.add('colab-df-spinner');\n",
              "      try {\n",
              "        const charts = await google.colab.kernel.invokeFunction(\n",
              "            'suggestCharts', [key], {});\n",
              "      } catch (error) {\n",
              "        console.error('Error during call to suggestCharts:', error);\n",
              "      }\n",
              "      quickchartButtonEl.classList.remove('colab-df-spinner');\n",
              "      quickchartButtonEl.classList.add('colab-df-quickchart-complete');\n",
              "    }\n",
              "    (() => {\n",
              "      let quickchartButtonEl =\n",
              "        document.querySelector('#df-142987b8-d792-46fa-bf07-e3e023db0c00 button');\n",
              "      quickchartButtonEl.style.display =\n",
              "        google.colab.kernel.accessAllowed ? 'block' : 'none';\n",
              "    })();\n",
              "  </script>\n",
              "</div>\n",
              "\n",
              "    </div>\n",
              "  </div>\n"
            ],
            "application/vnd.google.colaboratory.intrinsic+json": {
              "type": "dataframe",
              "variable_name": "train_data"
            }
          },
          "metadata": {},
          "execution_count": 3
        }
      ]
    },
    {
      "cell_type": "code",
      "source": [
        "train_data.isnull().sum()"
      ],
      "metadata": {
        "colab": {
          "base_uri": "https://localhost:8080/"
        },
        "id": "CT878mP7gZcg",
        "outputId": "3e8c999a-d292-4282-c9d7-cef6284ad71f"
      },
      "execution_count": null,
      "outputs": [
        {
          "output_type": "execute_result",
          "data": {
            "text/plain": [
              "Unnamed: 0               0\n",
              "trans_date_trans_time    0\n",
              "cc_num                   0\n",
              "merchant                 0\n",
              "category                 0\n",
              "amt                      0\n",
              "first                    0\n",
              "last                     0\n",
              "gender                   0\n",
              "street                   0\n",
              "city                     0\n",
              "state                    0\n",
              "zip                      0\n",
              "lat                      0\n",
              "long                     0\n",
              "city_pop                 0\n",
              "job                      0\n",
              "dob                      0\n",
              "trans_num                0\n",
              "unix_time                0\n",
              "merch_lat                0\n",
              "merch_long               0\n",
              "is_fraud                 1\n",
              "dtype: int64"
            ]
          },
          "metadata": {},
          "execution_count": 4
        }
      ]
    },
    {
      "cell_type": "code",
      "source": [
        "test_data.isnull().sum()"
      ],
      "metadata": {
        "colab": {
          "base_uri": "https://localhost:8080/"
        },
        "id": "JkJL29_cLqqK",
        "outputId": "4ad5454d-806b-4b38-9db1-6ce64327da49"
      },
      "execution_count": null,
      "outputs": [
        {
          "output_type": "execute_result",
          "data": {
            "text/plain": [
              "Unnamed: 0               0\n",
              "trans_date_trans_time    0\n",
              "cc_num                   0\n",
              "merchant                 0\n",
              "category                 0\n",
              "amt                      0\n",
              "first                    0\n",
              "last                     0\n",
              "gender                   0\n",
              "street                   0\n",
              "city                     0\n",
              "state                    0\n",
              "zip                      0\n",
              "lat                      0\n",
              "long                     0\n",
              "city_pop                 1\n",
              "job                      1\n",
              "dob                      1\n",
              "trans_num                1\n",
              "unix_time                1\n",
              "merch_lat                1\n",
              "merch_long               1\n",
              "is_fraud                 1\n",
              "dtype: int64"
            ]
          },
          "metadata": {},
          "execution_count": 5
        }
      ]
    },
    {
      "cell_type": "code",
      "source": [
        "train_data.drop(['Unnamed: 0'], axis=1,inplace=True)"
      ],
      "metadata": {
        "id": "HiUwWDo1LuDE"
      },
      "execution_count": null,
      "outputs": []
    },
    {
      "cell_type": "code",
      "source": [
        "test_data.drop(['Unnamed: 0'],axis=1,inplace=True)"
      ],
      "metadata": {
        "id": "5QLaZYQYMOdR"
      },
      "execution_count": null,
      "outputs": []
    },
    {
      "cell_type": "code",
      "source": [
        "train_data.info()"
      ],
      "metadata": {
        "colab": {
          "base_uri": "https://localhost:8080/"
        },
        "id": "RKnmDBOyghaB",
        "outputId": "72d3afff-73d6-495f-8be3-c274103b58c7"
      },
      "execution_count": null,
      "outputs": [
        {
          "output_type": "stream",
          "name": "stdout",
          "text": [
            "<class 'pandas.core.frame.DataFrame'>\n",
            "RangeIndex: 35041 entries, 0 to 35040\n",
            "Data columns (total 22 columns):\n",
            " #   Column                 Non-Null Count  Dtype  \n",
            "---  ------                 --------------  -----  \n",
            " 0   trans_date_trans_time  35041 non-null  object \n",
            " 1   cc_num                 35041 non-null  int64  \n",
            " 2   merchant               35041 non-null  object \n",
            " 3   category               35041 non-null  object \n",
            " 4   amt                    35041 non-null  float64\n",
            " 5   first                  35041 non-null  object \n",
            " 6   last                   35041 non-null  object \n",
            " 7   gender                 35041 non-null  object \n",
            " 8   street                 35041 non-null  object \n",
            " 9   city                   35041 non-null  object \n",
            " 10  state                  35041 non-null  object \n",
            " 11  zip                    35041 non-null  int64  \n",
            " 12  lat                    35041 non-null  float64\n",
            " 13  long                   35041 non-null  float64\n",
            " 14  city_pop               35041 non-null  int64  \n",
            " 15  job                    35041 non-null  object \n",
            " 16  dob                    35041 non-null  object \n",
            " 17  trans_num              35041 non-null  object \n",
            " 18  unix_time              35041 non-null  int64  \n",
            " 19  merch_lat              35041 non-null  float64\n",
            " 20  merch_long             35041 non-null  float64\n",
            " 21  is_fraud               35040 non-null  float64\n",
            "dtypes: float64(6), int64(4), object(12)\n",
            "memory usage: 5.9+ MB\n"
          ]
        }
      ]
    },
    {
      "cell_type": "code",
      "source": [
        "test_data.info()"
      ],
      "metadata": {
        "colab": {
          "base_uri": "https://localhost:8080/"
        },
        "id": "m0MKT8T3MnDy",
        "outputId": "8ec5dd59-fe81-4a36-be14-12f736c43fb3"
      },
      "execution_count": null,
      "outputs": [
        {
          "output_type": "stream",
          "name": "stdout",
          "text": [
            "<class 'pandas.core.frame.DataFrame'>\n",
            "RangeIndex: 3901 entries, 0 to 3900\n",
            "Data columns (total 22 columns):\n",
            " #   Column                 Non-Null Count  Dtype  \n",
            "---  ------                 --------------  -----  \n",
            " 0   trans_date_trans_time  3901 non-null   object \n",
            " 1   cc_num                 3901 non-null   int64  \n",
            " 2   merchant               3901 non-null   object \n",
            " 3   category               3901 non-null   object \n",
            " 4   amt                    3901 non-null   float64\n",
            " 5   first                  3901 non-null   object \n",
            " 6   last                   3901 non-null   object \n",
            " 7   gender                 3901 non-null   object \n",
            " 8   street                 3901 non-null   object \n",
            " 9   city                   3901 non-null   object \n",
            " 10  state                  3901 non-null   object \n",
            " 11  zip                    3901 non-null   int64  \n",
            " 12  lat                    3901 non-null   float64\n",
            " 13  long                   3901 non-null   object \n",
            " 14  city_pop               3900 non-null   float64\n",
            " 15  job                    3900 non-null   object \n",
            " 16  dob                    3900 non-null   object \n",
            " 17  trans_num              3900 non-null   object \n",
            " 18  unix_time              3900 non-null   float64\n",
            " 19  merch_lat              3900 non-null   float64\n",
            " 20  merch_long             3900 non-null   float64\n",
            " 21  is_fraud               3900 non-null   float64\n",
            "dtypes: float64(7), int64(2), object(13)\n",
            "memory usage: 670.6+ KB\n"
          ]
        }
      ]
    },
    {
      "cell_type": "code",
      "source": [
        "train_data.dropna(inplace=True)"
      ],
      "metadata": {
        "id": "TjpiFE2_MsSa"
      },
      "execution_count": null,
      "outputs": []
    },
    {
      "cell_type": "code",
      "source": [
        "test_data.dropna(inplace=True)"
      ],
      "metadata": {
        "id": "vynF4_pJM9FY"
      },
      "execution_count": null,
      "outputs": []
    },
    {
      "cell_type": "code",
      "source": [
        "print(f\"Gender:{train_data['gender'].unique()}\")\n",
        "print(f\"Category:{train_data['category'].unique()}\")\n",
        "print(f\"City:{train_data['city'].unique()}\")\n",
        "print(f\"Job:{train_data['job'].unique()}\")"
      ],
      "metadata": {
        "colab": {
          "base_uri": "https://localhost:8080/"
        },
        "id": "yTeqnwjqNE-X",
        "outputId": "b38a8e44-e5fa-43c4-86f2-4af063b45db2"
      },
      "execution_count": null,
      "outputs": [
        {
          "output_type": "stream",
          "name": "stdout",
          "text": [
            "Gender:['F' 'M']\n",
            "Category:['misc_net' 'grocery_pos' 'entertainment' 'gas_transport' 'misc_pos'\n",
            " 'grocery_net' 'shopping_net' 'shopping_pos' 'food_dining' 'personal_care'\n",
            " 'health_fitness' 'travel' 'kids_pets' 'home']\n",
            "City:['Moravian Falls' 'Orient' 'Malad City' 'Boulder' 'Doe Hill' 'Dublin'\n",
            " 'Holcomb' 'Edinburg' 'Manor' 'Clarksville' 'Clarinda'\n",
            " 'Shenandoah Junction' 'Saint Petersburg' 'Grenada'\n",
            " 'High Rolls Mountain Park' 'Harrington Park' 'Lahoma' 'Carlisle'\n",
            " 'Harborcreek' 'Elizabeth' 'Methuen' 'Moulton' 'Plainfield' 'May'\n",
            " 'Waukesha' 'Bailey' 'Romulus' 'Freedom' 'Honokaa' 'Valentine' 'Westfir'\n",
            " 'Tiptonville' 'Republic' 'Baton Rouge' 'Washington' 'Big Creek'\n",
            " 'Bellmore' 'Florence' 'Allentown' 'Moriches' 'Esbon' 'Chatham' 'Thompson'\n",
            " 'North Prairie' 'Laredo' 'Grant' 'Conway' 'New Goshen' 'Sunflower'\n",
            " 'Enola' 'Roosevelt' 'Pointe Aux Pins' 'Dallas' 'Jay' 'North Tonawanda'\n",
            " 'Athena' 'Chester' 'Elkhart' 'Surrency' 'Arcadia' 'Gaithersburg'\n",
            " 'Bowdoin' 'Heart Butte' 'San Jose' 'Rumely' 'Cranks' 'Ravenna' 'Utica'\n",
            " 'Uledi' 'Naples' 'Thida' 'Parks' 'Central' 'Fort Washakie' 'Etlan'\n",
            " 'Brinson' 'Shrewsbury' 'Bigelow' 'North Washington' 'Holloway'\n",
            " 'Littleton' 'Hinesburg' 'Meadville' 'Elberta' 'Moab' 'Diamond' 'Bradley'\n",
            " 'Hopewell' 'Hawthorne' 'Kensington' 'Ruth' 'Avoca' 'Princeton' 'Sherman'\n",
            " 'Loxahatchee' 'Smackover' 'Cokeburg' 'Leetsdale' 'Manville'\n",
            " 'Westhampton Beach' 'New York City' 'Halstad' 'Allenhurst' 'June Lake'\n",
            " 'Sixes' 'Holstein' 'Brantley' 'Paxton' 'Westerville' 'Timberville'\n",
            " 'Dunlevy' 'Coyle' 'Elizabethtown' 'Garrattsville' 'Lomax' 'Egan'\n",
            " 'Brownville' 'Drakes Branch' 'Ballwin' 'Fields Landing' 'West Palm Beach'\n",
            " 'West Chazy' 'Lebanon' 'Jones' 'Burke' 'Webster City' 'Ozawkie'\n",
            " 'Blackville' 'Damascus' 'Sea Island' 'Rule' 'Jefferson' 'Huntsville'\n",
            " 'Hinckley' 'Acworth' 'Camden' 'Smiths Grove' 'Philadelphia' 'Murrayville'\n",
            " 'Melbourne' 'Palmyra' 'Jermyn' 'Belfast' 'West Sayville' 'Sturgis'\n",
            " 'Lohrville' 'Arlington' 'Saint Paul' 'Girard' 'Fairview' 'Farmington'\n",
            " 'Kilgore' 'Springfield' 'Lepanto' 'Karnack' 'Louisiana' 'Kansas City'\n",
            " 'Mesa' 'Pomona' 'Lonetree' 'Port Saint Lucie' 'Centerview'\n",
            " 'Colorado Springs' 'Easton' 'West Columbia' 'Maysville' 'Muskegon'\n",
            " 'Johns Island' 'Metairie' 'Blairsden-Graeagle' 'Hampton' 'Viola'\n",
            " 'Paulding' 'Sontag' 'Clutier' 'Reno' 'Barnstable' 'Cardwell'\n",
            " 'Kingsford Heights' 'Phoenix' 'Newhall' 'Norwalk' 'Mc Nabb' 'Tulsa'\n",
            " 'Barnard' 'San Antonio' 'Bridger' 'Tomales' 'Mallie' 'Oxford' 'Turner'\n",
            " 'Eureka' 'Marietta' 'Redford' 'Weeping Water' 'Waynesfield' 'Portland'\n",
            " 'Greenwood' 'Boonton' 'Murfreesboro' 'Warren' 'Meridian'\n",
            " 'Cherokee Village' 'Bristow' 'Ash Flat' 'Iliff' 'Deadwood' 'Burlington'\n",
            " 'Wales' 'Churubusco' 'Afton' 'Cochranton' 'Mound City' 'West Harrison'\n",
            " 'Pembroke Township' 'Joliet' 'Fulton' 'Saint Bonaventure' 'Keisterville'\n",
            " 'Greenview' 'Lakeport' 'Rock Tavern' 'Llano' 'Altair' 'Harrodsburg'\n",
            " 'Carlotta' 'Wittenberg' 'Des Moines' 'Auburn' 'Dadeville' 'Wilton'\n",
            " 'Ollie' 'Mifflin' 'Amsterdam' 'Manderson' 'Holliday' 'Dumont' 'Payson'\n",
            " 'Birmingham' 'Creola' 'Texarkana' 'Fullerton' 'Ruckersville'\n",
            " 'Blooming Grove' 'Comfort' 'Louisville' 'Atglen' 'North Loup' 'Grassflat'\n",
            " 'Mill Creek' 'Moores Hill' 'Browning' 'Smithfield' 'Cromona' 'Kent'\n",
            " 'Harwood' 'Delhi' 'Gadsden' 'Brooklin' 'Bay Minette' 'Higganum'\n",
            " 'Ashfield' 'Fiddletown' 'Andrews' 'Huntington Beach' 'Westport' 'Comfrey'\n",
            " 'Heidelberg' 'Powell' 'De Witt' 'Howes Cave' 'Oolitic' 'Belmond'\n",
            " 'Mooresville' 'Steuben' 'Armagh' 'Edisto Island' 'Marathon' 'Port Gibson'\n",
            " 'Brandon' 'Tallmansville' 'Glendale' 'El Paso' 'Lamberton' 'Manchester'\n",
            " 'Emporium' 'Alva' 'Roma' 'Prairie Hill' 'Blairstown' 'Bridgeport'\n",
            " 'Grand Junction' 'Tamaroa' 'Great Mills' 'Laguna Hills' 'West Decatur'\n",
            " 'Aledo' 'Pelham' 'Albuquerque' 'Scotland' 'Azusa' 'Lanark Village'\n",
            " 'Cuyahoga Falls' 'Manistique' 'Mountain Park' 'University' 'Breesport'\n",
            " 'Harper' 'Bagley' 'Fenelton' 'Gardiner' 'Greendale' 'Bay City'\n",
            " 'Minneapolis' 'Gregory' 'Tuscarora' 'Northport' 'Rock Springs' 'Altona'\n",
            " 'Paauilo' 'Ratcliff' 'Mount Morris' 'Pembroke' 'Pittsburgh'\n",
            " 'West Henrietta' 'Tickfaw' 'Rhame' 'Eugene' 'Seneca' 'Daly City' 'Logan'\n",
            " 'Coleman' 'Norman' 'Cape Coral' 'Summerfield' 'Daniels' 'Tampa'\n",
            " 'Gainesville' 'East Canaan' 'Dresden' 'Luzerne' 'Parkers Lake' 'Olmsted'\n",
            " 'Mendon' 'Fayetteville' 'Notrees' 'Pecos' 'Brunson' 'Belgrade' 'Kenner'\n",
            " 'Stillwater' 'Cadiz' 'Avera' 'Annapolis' 'Powell Butte' 'Rosewood' 'Lima'\n",
            " 'Thrall' 'Union' 'Riverview' 'Hannawa Falls' 'Cazenovia' 'North Judson'\n",
            " 'Fordoche' 'Bauxite' 'Cisco' 'Apison' 'Cass' 'Santa Monica' 'Amorita'\n",
            " 'Laramie' 'Hudson' 'Center Point' 'Lagrange' 'Dexter' 'Brainard' 'Winger'\n",
            " 'Thomas' 'Shelter Island' 'Tupper Lake' 'Humboldt' 'Winter' 'Corona'\n",
            " 'Lakeland' 'Vienna' 'Goreville' 'Yellowstone National Park' 'Shedd'\n",
            " 'Wilmington' 'Mc Cracken' 'Milner' 'Noonan' 'Falconer' 'Desdemona'\n",
            " 'Bethel Springs' 'Burns Flat' 'Glen Rock' 'Basye' 'Lowville' 'Du Pont'\n",
            " 'Burrton' 'Lubbock' 'Independence' 'Creedmoor' 'Wichita' 'Houston'\n",
            " 'Clay Center' 'Sebring' 'Whittemore' 'Ogdensburg' 'Spearsville' 'Oaks'\n",
            " 'Paradise Valley' 'Burbank' 'New Holstein' 'Schaefferstown'\n",
            " 'Washington Court House' 'Eldridge' 'San Diego' 'Marienville'\n",
            " 'Fort Myers' 'Kissee Mills' 'Bronx' 'Montandon' 'Espanola' 'Campbell'\n",
            " 'Indian Wells' 'Hewitt' 'Leo' 'Mulberry Grove' 'Mountain Center' 'Helm'\n",
            " 'Detroit' 'Moundsville' 'Falmouth' 'Zaleski' 'Lowell' 'Henderson'\n",
            " 'Corsica' 'Wilmette' 'Mayersville' 'Pearlington' 'Cleveland' 'Whigham'\n",
            " 'Kirby' 'Knoxville' 'Highland' 'Hazel' 'Alexandria' 'Port Ewen' 'Lamy'\n",
            " 'Mount Clemens' 'North Wilkesboro' 'Morrisdale' 'Cord' 'Sauk Rapids'\n",
            " 'Center Tuftonboro' 'Hatch' 'Margaretville' 'Goodrich' 'Ford'\n",
            " 'South Londonderry' 'Cross Plains' 'Lake Jackson' 'Orangeburg'\n",
            " 'Walnut Ridge' 'Tower Hill' 'Oakland' 'Montrose' 'Parker Dam'\n",
            " 'Rocky Mount' 'Coleharbor' 'Falls City' 'Moriarty' 'Southfield'\n",
            " 'Glade Spring' 'Slayden' 'O Brien' 'Bristol' 'Umatilla' 'Hooper'\n",
            " 'Saint Amant' 'Clayton' 'Cascade Locks' 'Saint James City' 'Vinton'\n",
            " 'Christine' 'Alder' 'Roseland' 'Tyaskin' 'Lake Oswego' 'Parker'\n",
            " 'Wauchula' 'Colton' 'Juliette' 'River' 'Beaver Falls' 'Elk Rapids'\n",
            " 'Lonsdale' 'West Hartford' 'Kirtland Afb' 'Shields' 'Riverton'\n",
            " 'Whaleyville' 'Sacramento' 'Marion' 'Adams' 'Zavalla' 'Cottekill'\n",
            " 'Shippingport' 'Montgomery' 'Sun City' 'Grover' 'Newport'\n",
            " 'South Richmond Hill' 'Parsonsfield' 'Garfield' 'Jelm' 'Meredith'\n",
            " 'Battle Creek' 'Woodville' 'Luray' 'Cowlesville' 'Haw River'\n",
            " 'Falls Church' 'Topeka' 'Haynes' 'Grimesland' 'Smith River' 'Moorhead'\n",
            " 'White Sulphur Springs' 'East Andover' 'Superior' 'Hurricane'\n",
            " 'Bowersville' 'Mount Saint Joseph' 'Hancock' 'Dubre' 'Collettsville'\n",
            " 'Rossville' 'Red River' 'Benton' 'Monmouth Beach' 'Bessemer' 'Greenbush'\n",
            " 'Reynolds' 'Nazareth' 'Hovland' 'Alpharetta' 'Canton' 'Catawba'\n",
            " 'Scarborough' 'Hopkins' 'Norman Park' 'Sachse' 'Arvada' 'Winthrop'\n",
            " 'De Soto' 'Sutherland' 'Grandview' 'Manquin' 'Owensville' 'Altonah'\n",
            " 'Titusville' 'Paris' 'Humble' 'Mounds' 'Lolita' 'Wetmore' 'Keller'\n",
            " 'Amanda' 'Scotia' 'Pueblo' 'Purmela' 'Chester Heights' 'Clarks Mills'\n",
            " 'Mount Hope' 'West Eaton' 'Beaverdam' 'Randolph' 'Greenwich' 'Ragland'\n",
            " 'Phenix City' 'Coffeeville' 'Stirling' 'Issaquah' 'Old Hickory'\n",
            " 'West Long Branch' 'Ronceverte' 'Sula' 'Belle Fourche' 'Vero Beach'\n",
            " 'Curlew' 'Tyler' 'Miamisburg' 'Providence' 'Saint Louis' 'Duncan'\n",
            " 'De Lancey' 'Lawn' 'Tryon' 'Milwaukee' 'New Ellenton' 'East Troy' 'Saxon'\n",
            " 'West Green' 'Atlantic' 'Mc Veytown' 'Ferney' 'Corriganville'\n",
            " 'Pikesville' 'Cecilton' 'Wheaton' 'Palmdale' 'New Memphis' 'Newton'\n",
            " 'Valdosta' 'Jordan Valley' 'Edmond' 'Hills' 'Waupaca' 'Darien' 'Milford'\n",
            " 'De Queen' 'Newberg' 'Plymouth' 'Columbia' 'Belmont' 'Quanah' 'Barneveld'\n",
            " 'Newark Valley' 'Downsville' 'American Fork' 'Clifton' 'Stayton'\n",
            " 'Bonfield' 'Napa' 'West Monroe' 'Dayton' 'Hawley' 'Kingsport' 'Moro'\n",
            " 'Livonia' 'Sheffield' 'Gretna' 'Haines City' 'Key West' 'Stanchfield'\n",
            " 'Rockwood' 'Hahira' 'Munith' 'Minnesota Lake' 'New Waverly' 'Sprague'\n",
            " 'Dieterich' 'Mansfield' 'Winfield' 'Rochester' 'Oran' 'Orr' 'Crownpoint'\n",
            " 'Putnam' 'San Angelo' 'Eagarville' 'Leonard' 'Claremont' 'Spencer'\n",
            " 'Nelson' 'Rockwell' 'Ringwood' 'Oakdale' 'Nokomis' 'Bethel' 'Cedar'\n",
            " 'Loami' 'Spring Church' 'Brashear' 'Tekoa' 'Kingsville' 'Galatia'\n",
            " 'Dell City' 'Emmons' 'Norwich' 'Maria Stein' 'Georgetown' 'Clearwater'\n",
            " 'Albany' 'Indianapolis' 'Red Cliff' 'Omaha' 'Brooklyn' 'Richland'\n",
            " 'Arnold' 'Odessa' 'Iselin' 'Washoe Valley' 'Denham Springs' 'Mobile'\n",
            " 'Vanderbilt' 'Varnell' 'Halma' 'Oriskany Falls' 'Ranier' 'Lawrence'\n",
            " 'Hurley' 'Grand Bay' 'Sardis' 'Woods Cross' 'Broomfield' 'Schaumburg'\n",
            " 'Saint Francis' 'Heiskell' 'Unionville' 'Nobleboro' 'South Hero'\n",
            " 'Carroll' 'Achille' 'Lithopolis' 'Manley' 'Graniteville' 'Plantersville'\n",
            " 'Jaffrey' 'Liberty Mills' 'Stephensport' 'Matawan' 'Grantham' 'Tomahawk'\n",
            " 'Lakeview' 'Lane' 'Pewee Valley' 'Bolton' 'Matthews' 'Jordanville'\n",
            " 'Syracuse' 'Ruidoso' 'Oak Hill' 'Cressona' 'Early' 'Bryant' 'Bynum'\n",
            " 'Palermo' 'Fairhope' 'Remer' 'Baroda' 'Howells' 'Beasley' 'Phil Campbell'\n",
            " 'Deane' 'North Haverhill' 'Mount Perry' 'Prairie Creek' 'Grand Ridge'\n",
            " 'Oklahoma City' 'Ashford' 'Huslia' 'Irvine' 'Ehrhardt' 'Prosperity'\n",
            " 'Dongola' 'Paint Rock' 'Dalton' 'Smock' 'Bolivar' 'Spring' 'Ridgeland'\n",
            " 'West Finley' 'Lorenzo' 'Clune' 'Port Costa' 'Oconto Falls' 'Preston'\n",
            " 'Bonita Springs' 'Hartford' 'Hedrick' 'Boyd' 'Big Indian' 'Cuthbert'\n",
            " 'Sterling City' 'Queenstown' 'Trenton' 'Kirk' 'Gibsonville'\n",
            " 'North Brookfield' 'Akron' 'Monitor' 'New Boston' 'Monetta' 'Mc Intosh'\n",
            " 'Watertown' 'Alton' 'Rock Glen' 'East Rochester' 'Armonk' 'Stoneham'\n",
            " 'Winslow' 'Williamsburg' 'Mc Clellandtown' 'Hedley' 'Skytop' 'Cross'\n",
            " 'Deltona' 'Irwinton' 'North Augusta' 'Collegeville' 'Knowlesville'\n",
            " 'Oakford' 'Aurora' 'Heislerville' 'Scotts Mills' 'Moscow' 'Williams'\n",
            " 'Premier' 'Port Charlotte' 'Wendel' 'Harmony' 'Springfield Gardens'\n",
            " 'North Las Vegas' 'Port Richey' 'Linthicum Heights' 'Veedersburg'\n",
            " 'Loving' 'Stittville' 'Kittery Point' 'Greenville' 'Los Angeles'\n",
            " 'Ironton' 'Vancouver' 'Jackson' 'Kings Bay' 'Thornville' 'Cassatt'\n",
            " 'Michigan' 'Spirit Lake' 'Pea Ridge' 'West Bethel' 'New Franken']\n",
            "Job:['Psychologist, counselling' 'Special educational needs teacher'\n",
            " 'Nature conservation officer' 'Patent attorney'\n",
            " 'Dance movement psychotherapist' 'Transport planner' 'Arboriculturist'\n",
            " 'Designer, multimedia' 'Public affairs consultant' 'Pathologist'\n",
            " 'IT trainer' 'Systems developer' 'Engineer, land' 'Systems analyst'\n",
            " 'Naval architect' 'Radiographer, diagnostic'\n",
            " 'Programme researcher, broadcasting/film/video' 'Energy engineer'\n",
            " 'Event organiser' 'Operational researcher' 'Market researcher'\n",
            " 'Probation officer' 'Leisure centre manager'\n",
            " 'Corporate investment banker' 'Therapist, occupational'\n",
            " 'Call centre manager' 'Police officer' 'Education officer, museum'\n",
            " 'Physiotherapist' 'Network engineer' 'Forensic psychologist' 'Geochemist'\n",
            " 'Armed forces training and education officer' 'Designer, furniture'\n",
            " 'Optician, dispensing' 'Psychologist, forensic' 'Librarian, public'\n",
            " 'Fine artist' 'Scientist, research (maths)'\n",
            " 'Research officer, trade union' 'Tourism officer'\n",
            " 'Human resources officer' 'Surveyor, minerals' 'Applications developer'\n",
            " 'Video editor' 'Curator' 'Research officer, political party'\n",
            " 'Engineer, mining' 'Education officer, community' 'Physicist, medical'\n",
            " 'Amenity horticulturist' 'Electrical engineer'\n",
            " 'Television camera operator' 'Higher education careers adviser'\n",
            " 'Ambulance person' 'Dealer' 'Paediatric nurse'\n",
            " 'Trading standards officer' 'Engineer, technical sales'\n",
            " 'Designer, jewellery' 'Clinical biochemist' 'Engineer, electronics'\n",
            " 'Water engineer' 'Science writer' 'Film/video editor'\n",
            " 'Solicitor, Scotland' 'Product/process development scientist'\n",
            " 'Tree surgeon' 'Careers information officer' 'Geologist, engineering'\n",
            " 'Counsellor' 'Freight forwarder' 'Senior tax professional/tax inspector'\n",
            " 'Engineer, broadcasting (operations)'\n",
            " 'English as a second language teacher' 'Economist'\n",
            " 'Child psychotherapist' 'Claims inspector/assessor'\n",
            " 'Tourist information centre manager'\n",
            " 'Exhibitions officer, museum/gallery' 'Location manager'\n",
            " 'Engineer, biomedical' 'Research scientist (physical sciences)'\n",
            " 'Purchasing manager' 'Editor, magazine features' 'Operations geologist'\n",
            " 'Interpreter' 'Engineering geologist' 'Agricultural consultant'\n",
            " 'Paramedic' 'Financial adviser' 'Administrator, education'\n",
            " 'Educational psychologist' 'Financial trader' 'Audiological scientist'\n",
            " 'Scientist, audiological'\n",
            " 'Administrator, charities/voluntary organisations'\n",
            " 'Health service manager' 'Retail merchandiser'\n",
            " 'Telecommunications researcher' 'Exercise physiologist'\n",
            " 'Accounting technician' 'Product designer' 'Waste management officer'\n",
            " 'Mining engineer' 'Surgeon' 'Therapist, horticultural'\n",
            " 'Environmental consultant' 'Broadcast presenter' 'Producer, radio'\n",
            " 'Engineer, communications'\n",
            " 'Historic buildings inspector/conservation officer'\n",
            " 'Teacher, English as a foreign language' 'Materials engineer'\n",
            " 'Health visitor' 'Medical secretary' 'Theatre director'\n",
            " 'Technical brewer' 'Land/geomatics surveyor' 'Engineer, structural'\n",
            " 'Diagnostic radiographer' 'Television production assistant'\n",
            " 'Medical sales representative' 'Building control surveyor'\n",
            " 'Therapist, sports' 'Structural engineer'\n",
            " 'Commercial/residential surveyor' 'Database administrator'\n",
            " 'Exhibition designer' 'Training and development officer'\n",
            " 'Mechanical engineer' 'Medical physicist' 'Administrator' 'Mudlogger'\n",
            " 'Fisheries officer' 'Conservator, museum/gallery'\n",
            " 'Programmer, multimedia' 'Cytogeneticist' 'Multimedia programmer'\n",
            " 'Counselling psychologist' 'Chiropodist' 'Teacher, early years/pre'\n",
            " 'Cartographer' 'Pensions consultant' 'Primary school teacher'\n",
            " 'Electronics engineer' 'Museum/gallery exhibitions officer' 'Air broker'\n",
            " 'Chemical engineer' 'Advertising account executive'\n",
            " 'Advertising account planner'\n",
            " 'Chartered legal executive (England and Wales)' 'Psychiatric nurse'\n",
            " 'Secondary school teacher' 'Librarian, academic' 'Embryologist, clinical'\n",
            " 'Immunologist' 'Television floor manager' 'Contractor' 'Health physicist'\n",
            " 'Copy' 'Bookseller' 'Land' 'Chartered loss adjuster'\n",
            " 'Occupational psychologist' 'Facilities manager'\n",
            " 'Further education lecturer' 'Archivist' 'Investment analyst'\n",
            " 'Engineer, building services' 'Psychologist, sport and exercise'\n",
            " 'Journalist, newspaper' 'Doctor, hospital' 'Phytotherapist'\n",
            " 'Pharmacologist' 'Horticultural therapist' 'Hydrologist'\n",
            " 'Community arts worker' 'Public house manager' 'Architect'\n",
            " 'Lexicographer' 'Psychotherapist, child' 'Teacher, secondary school'\n",
            " 'Toxicologist' 'Commercial horticulturist' 'Podiatrist'\n",
            " 'Building surveyor' 'Architectural technologist' 'Editor, film/video'\n",
            " 'Social researcher' 'Wellsite geologist' 'Minerals surveyor'\n",
            " 'Designer, ceramics/pottery' 'Mental health nurse'\n",
            " 'Volunteer coordinator' 'Chief Technology Officer' 'Camera operator'\n",
            " 'Copywriter, advertising' 'Surveyor, mining' 'Product manager'\n",
            " \"Nurse, children's\" 'Pension scheme manager' 'Archaeologist' 'Sub'\n",
            " 'Designer, interior/spatial' 'Futures trader' 'Chief Financial Officer'\n",
            " 'Museum education officer' 'Quantity surveyor' 'Physiological scientist'\n",
            " 'Loss adjuster, chartered' 'Pilot, airline' 'Production assistant, radio'\n",
            " 'Immigration officer' 'Retail banker' 'Health and safety adviser'\n",
            " 'Teacher, special educational needs' 'Jewellery designer'\n",
            " 'Community pharmacist' 'Control and instrumentation engineer' 'Make'\n",
            " 'Early years teacher' 'Sales professional, IT' 'Scientist, marine'\n",
            " 'Intelligence analyst' 'Clinical research associate'\n",
            " 'Administrator, local government' 'Barrister'\n",
            " 'Engineer, control and instrumentation' 'Clothing/textile technologist'\n",
            " 'Development worker, community' 'Art therapist' 'Sales executive'\n",
            " 'Armed forces logistics/support/administrative officer' 'Optometrist'\n",
            " 'Insurance underwriter' 'Charity officer' 'Civil Service fast streamer'\n",
            " 'Retail buyer' 'Magazine features editor' 'Equities trader'\n",
            " 'Trade mark attorney' 'Research scientist (life sciences)'\n",
            " 'Psychotherapist' 'Pharmacist, community' 'Risk analyst'\n",
            " 'Engineer, maintenance' 'Logistics and distribution manager'\n",
            " 'Water quality scientist' 'Lecturer, further education'\n",
            " 'Production assistant, television' 'Tour manager' 'Music therapist'\n",
            " 'Surveyor, land/geomatics' 'Engineer, production' 'Acupuncturist'\n",
            " 'Hospital doctor' 'Teacher, primary school'\n",
            " 'Accountant, chartered public finance' 'Illustrator'\n",
            " 'Scientist, physiological' 'Buyer, industrial'\n",
            " 'Scientist, research (physical sciences)' 'Radio producer'\n",
            " 'Manufacturing engineer' 'Animal technologist' 'Production engineer'\n",
            " 'Biochemist, clinical' 'Engineer, manufacturing' 'Comptroller'\n",
            " 'General practice doctor' 'Designer, industrial/product' 'Prison officer'\n",
            " 'Merchandiser, retail' 'Engineer, drilling' 'Engineer, petroleum'\n",
            " 'Cabin crew' 'Commissioning editor' 'Accountant, chartered certified'\n",
            " 'Local government officer' 'Professor Emeritus' 'Press sub'\n",
            " 'Chartered public finance accountant' 'Writer' 'Chief Executive Officer'\n",
            " 'Occupational hygienist' 'Doctor, general practice'\n",
            " 'Community education officer' 'Landscape architect'\n",
            " 'Occupational therapist' 'Special effects artist'\n",
            " 'Civil engineer, contracting' \"Barrister's clerk\" 'Travel agency manager'\n",
            " 'Associate Professor' 'Neurosurgeon' 'Plant breeder/geneticist'\n",
            " 'Radio broadcast assistant' 'Field seismologist'\n",
            " 'Industrial/product designer' 'Metallurgist' \"Politician's assistant\"\n",
            " 'Insurance claims handler' 'Theme park manager' 'Gaffer'\n",
            " 'Chief Strategy Officer' 'Heritage manager' 'Ceramics designer'\n",
            " 'Animator' 'Oceanographer' 'Colour technologist' 'Engineer, agricultural'\n",
            " 'Therapist, drama' 'Orthoptist' 'Learning mentor'\n",
            " 'Arts development officer' 'Biomedical engineer' 'Race relations officer'\n",
            " 'Therapist, music' 'Retail manager' 'Furniture designer'\n",
            " 'Building services engineer' 'Maintenance engineer' 'Aid worker'\n",
            " 'Editor, commissioning' 'Private music teacher' 'Scientist, biomedical'\n",
            " 'Public relations account executive' 'Dispensing optician'\n",
            " 'Advice worker' 'Hydrographic surveyor' 'Geoscientist'\n",
            " 'Environmental health practitioner' 'Learning disability nurse'\n",
            " 'Chief Operating Officer' 'Scientific laboratory technician'\n",
            " 'Records manager' 'Barista' 'Marketing executive' 'Tax inspector'\n",
            " 'Musician' 'Therapist, art' 'Engineer, automotive'\n",
            " 'Clinical psychologist' 'Warden/ranger' 'Surveyor, rural practice'\n",
            " 'Sport and exercise psychologist' 'Education administrator'\n",
            " 'Chief of Staff' 'Nurse, mental health' 'Music tutor'\n",
            " 'Planning and development surveyor' 'Teaching laboratory technician'\n",
            " 'Chief Marketing Officer' 'Theatre manager' 'Quarry manager'\n",
            " 'Interior and spatial designer' 'Lecturer, higher education'\n",
            " 'Regulatory affairs officer' 'Secretary/administrator'\n",
            " 'Chemist, analytical' 'Designer, exhibition/display'\n",
            " 'Pharmacist, hospital' 'Site engineer' 'Equality and diversity officer'\n",
            " 'Public librarian' 'Town planner' 'Chartered accountant'\n",
            " 'Programmer, applications' 'Manufacturing systems engineer'\n",
            " 'Web designer' 'Community development worker' 'Animal nutritionist'\n",
            " 'Petroleum engineer' 'Information systems manager' 'Press photographer'\n",
            " 'Insurance risk surveyor' 'Soil scientist' 'Buyer, retail'\n",
            " 'Public relations officer' 'Health promotion specialist' 'Psychiatrist'\n",
            " 'Visual merchandiser' 'Rural practice surveyor' 'Hotel manager'\n",
            " 'Communications engineer' 'Insurance broker' 'Radiographer, therapeutic'\n",
            " 'Set designer' 'Tax adviser' 'Drilling engineer' 'Fitness centre manager'\n",
            " 'Farm manager' 'Management consultant' 'Energy manager'\n",
            " 'Museum/gallery conservator' 'Herbalist' 'Osteopath' 'Statistician'\n",
            " 'Hospital pharmacist' 'Estate manager/land agent'\n",
            " 'Sports development officer' 'Investment banker, corporate'\n",
            " 'Biomedical scientist' 'Television/film/video producer'\n",
            " 'Nutritional therapist' 'Company secretary' 'Production manager'\n",
            " 'Magazine journalist' 'Media buyer' 'Data scientist'\n",
            " 'Engineer, civil (contracting)' 'Herpetologist'\n",
            " 'Garment/textile technologist' 'Scientist, research (medical)'\n",
            " 'Civil Service administrator' 'Airline pilot' 'Textile designer'\n",
            " 'Environmental manager' 'Furniture conservator/restorer'\n",
            " 'Horticultural consultant' 'Firefighter'\n",
            " 'Geophysicist/field seismologist' 'Psychologist, clinical'\n",
            " 'Development worker, international aid' 'Sports administrator'\n",
            " 'IT consultant' 'Presenter, broadcasting'\n",
            " 'Outdoor activities/education manager' 'Field trials officer'\n",
            " 'Social research officer, government'\n",
            " 'English as a foreign language teacher' 'Restaurant manager, fast food'\n",
            " 'Hydrogeologist' 'Research scientist (medical)'\n",
            " 'Designer, television/film set' 'Geneticist, molecular'\n",
            " 'Designer, textile' 'Licensed conveyancer'\n",
            " 'Emergency planning/management officer' 'Geologist, wellsite'\n",
            " 'Air cabin crew' 'Seismic interpreter' 'Surveyor, hydrographic'\n",
            " 'Charity fundraiser' 'Stage manager' 'Aeronautical engineer'\n",
            " 'Glass blower/designer' 'Ecologist' 'Horticulturist, commercial'\n",
            " 'Research scientist (maths)' 'Engineer, aeronautical'\n",
            " 'Conservation officer, historic buildings' 'Art gallery manager'\n",
            " 'Advertising copywriter' 'Engineer, civil (consulting)' 'Oncologist'\n",
            " 'Engineer, materials'\n",
            " 'Scientist, clinical (histocompatibility and immunogenetics)'\n",
            " 'Investment banker, operational' 'Medical technical officer'\n",
            " 'Academic librarian' 'Artist' 'Clinical cytogeneticist' 'TEFL teacher'\n",
            " 'Administrator, arts' 'Teacher, adult education' 'Catering manager'\n",
            " 'Environmental education officer' 'Conservator, furniture'\n",
            " 'Analytical chemist' 'Broadcast engineer' 'Media planner' 'Lawyer'\n",
            " 'Producer, television/film/video']\n"
          ]
        }
      ]
    },
    {
      "cell_type": "code",
      "source": [
        "from sklearn.preprocessing import LabelEncoder\n",
        "le = LabelEncoder()\n",
        "\n",
        "# data preprocessing for Training Data\n",
        "train_data = train_data[['gender', \"category\", \"amt\", \"city\", \"job\", \"is_fraud\"]]\n",
        "\n",
        "train_data.loc[:, 'category'] = le.fit_transform(train_data[\"category\"])\n",
        "train_data.loc[:, 'city'] = le.fit_transform(train_data[\"city\"])\n",
        "train_data.loc[:, 'job'] = le.fit_transform(train_data[\"job\"])\n",
        "train_data.loc[:, 'gender'] = train_data[\"gender\"].map({'M': 0, 'F': 1})\n",
        "\n",
        "# data preprocessing for Testing Data\n",
        "test_data = test_data[['gender',\"category\",\"amt\",\"city\", \"job\",\"is_fraud\"]]\n",
        "\n",
        "test_data.loc[:, 'category'] = le.fit_transform(test_data[\"category\"])\n",
        "test_data.loc[:, 'city'] = le.fit_transform(test_data[\"city\"])\n",
        "test_data.loc[:, 'job'] = le.fit_transform(test_data[\"job\"])\n",
        "test_data.loc[:, 'gender'] = test_data[\"gender\"].map({'M': 0, 'F': 1})"
      ],
      "metadata": {
        "id": "gnBiu-kZjJAz"
      },
      "execution_count": null,
      "outputs": []
    },
    {
      "cell_type": "code",
      "source": [
        "train_data['gender'] = train_data['gender'].astype(int)\n",
        "train_data['category'] = train_data['category'].astype(int)\n",
        "train_data['city'] = train_data['city'].astype(int)\n",
        "train_data['job'] = train_data['job'].astype(int)"
      ],
      "metadata": {
        "id": "dH3fGYraOdvG",
        "colab": {
          "base_uri": "https://localhost:8080/"
        },
        "outputId": "cbd4d1f8-a77c-4477-e725-fab07a4357f7"
      },
      "execution_count": null,
      "outputs": [
        {
          "output_type": "stream",
          "name": "stderr",
          "text": [
            "<ipython-input-14-5c1df4afbdf9>:1: SettingWithCopyWarning: \n",
            "A value is trying to be set on a copy of a slice from a DataFrame.\n",
            "Try using .loc[row_indexer,col_indexer] = value instead\n",
            "\n",
            "See the caveats in the documentation: https://pandas.pydata.org/pandas-docs/stable/user_guide/indexing.html#returning-a-view-versus-a-copy\n",
            "  train_data['gender'] = train_data['gender'].astype(int)\n",
            "<ipython-input-14-5c1df4afbdf9>:2: SettingWithCopyWarning: \n",
            "A value is trying to be set on a copy of a slice from a DataFrame.\n",
            "Try using .loc[row_indexer,col_indexer] = value instead\n",
            "\n",
            "See the caveats in the documentation: https://pandas.pydata.org/pandas-docs/stable/user_guide/indexing.html#returning-a-view-versus-a-copy\n",
            "  train_data['category'] = train_data['category'].astype(int)\n",
            "<ipython-input-14-5c1df4afbdf9>:3: SettingWithCopyWarning: \n",
            "A value is trying to be set on a copy of a slice from a DataFrame.\n",
            "Try using .loc[row_indexer,col_indexer] = value instead\n",
            "\n",
            "See the caveats in the documentation: https://pandas.pydata.org/pandas-docs/stable/user_guide/indexing.html#returning-a-view-versus-a-copy\n",
            "  train_data['city'] = train_data['city'].astype(int)\n",
            "<ipython-input-14-5c1df4afbdf9>:4: SettingWithCopyWarning: \n",
            "A value is trying to be set on a copy of a slice from a DataFrame.\n",
            "Try using .loc[row_indexer,col_indexer] = value instead\n",
            "\n",
            "See the caveats in the documentation: https://pandas.pydata.org/pandas-docs/stable/user_guide/indexing.html#returning-a-view-versus-a-copy\n",
            "  train_data['job'] = train_data['job'].astype(int)\n"
          ]
        }
      ]
    },
    {
      "cell_type": "code",
      "source": [
        "test_data['gender'] = test_data['gender'].astype(int)\n",
        "test_data['category'] = test_data['category'].astype(int)\n",
        "test_data['city'] = test_data['city'].astype(int)\n",
        "test_data['job'] = test_data['job'].astype(int)"
      ],
      "metadata": {
        "id": "XxUdae1YPERD",
        "colab": {
          "base_uri": "https://localhost:8080/"
        },
        "outputId": "7ad6a0ac-bc80-4404-a67c-00712841328c"
      },
      "execution_count": null,
      "outputs": [
        {
          "output_type": "stream",
          "name": "stderr",
          "text": [
            "<ipython-input-15-05cf64a086e9>:1: SettingWithCopyWarning: \n",
            "A value is trying to be set on a copy of a slice from a DataFrame.\n",
            "Try using .loc[row_indexer,col_indexer] = value instead\n",
            "\n",
            "See the caveats in the documentation: https://pandas.pydata.org/pandas-docs/stable/user_guide/indexing.html#returning-a-view-versus-a-copy\n",
            "  test_data['gender'] = test_data['gender'].astype(int)\n",
            "<ipython-input-15-05cf64a086e9>:2: SettingWithCopyWarning: \n",
            "A value is trying to be set on a copy of a slice from a DataFrame.\n",
            "Try using .loc[row_indexer,col_indexer] = value instead\n",
            "\n",
            "See the caveats in the documentation: https://pandas.pydata.org/pandas-docs/stable/user_guide/indexing.html#returning-a-view-versus-a-copy\n",
            "  test_data['category'] = test_data['category'].astype(int)\n",
            "<ipython-input-15-05cf64a086e9>:3: SettingWithCopyWarning: \n",
            "A value is trying to be set on a copy of a slice from a DataFrame.\n",
            "Try using .loc[row_indexer,col_indexer] = value instead\n",
            "\n",
            "See the caveats in the documentation: https://pandas.pydata.org/pandas-docs/stable/user_guide/indexing.html#returning-a-view-versus-a-copy\n",
            "  test_data['city'] = test_data['city'].astype(int)\n",
            "<ipython-input-15-05cf64a086e9>:4: SettingWithCopyWarning: \n",
            "A value is trying to be set on a copy of a slice from a DataFrame.\n",
            "Try using .loc[row_indexer,col_indexer] = value instead\n",
            "\n",
            "See the caveats in the documentation: https://pandas.pydata.org/pandas-docs/stable/user_guide/indexing.html#returning-a-view-versus-a-copy\n",
            "  test_data['job'] = test_data['job'].astype(int)\n"
          ]
        }
      ]
    },
    {
      "cell_type": "code",
      "source": [
        "X_train = train_data[['gender', \"category\", \"amt\", \"city\", \"job\"]]\n",
        "y_train = train_data[\"is_fraud\"]\n",
        "\n",
        "X_test = test_data[['gender', \"category\", \"amt\", \"city\", \"job\"]]\n",
        "y_test = test_data[\"is_fraud\"]"
      ],
      "metadata": {
        "id": "vA_nXWA5jU5w"
      },
      "execution_count": null,
      "outputs": []
    },
    {
      "cell_type": "code",
      "source": [
        "train_data.shape"
      ],
      "metadata": {
        "colab": {
          "base_uri": "https://localhost:8080/"
        },
        "id": "yLZa5bA8gm97",
        "outputId": "5cf5bdde-8637-4f8c-ea69-37fb862146c3"
      },
      "execution_count": null,
      "outputs": [
        {
          "output_type": "execute_result",
          "data": {
            "text/plain": [
              "(35040, 6)"
            ]
          },
          "metadata": {},
          "execution_count": 17
        }
      ]
    },
    {
      "cell_type": "code",
      "source": [
        "train_data.columns"
      ],
      "metadata": {
        "colab": {
          "base_uri": "https://localhost:8080/"
        },
        "id": "InS3oMpjgpa6",
        "outputId": "abadc95a-a854-4b10-8233-b47297786419"
      },
      "execution_count": null,
      "outputs": [
        {
          "output_type": "execute_result",
          "data": {
            "text/plain": [
              "Index(['gender', 'category', 'amt', 'city', 'job', 'is_fraud'], dtype='object')"
            ]
          },
          "metadata": {},
          "execution_count": 18
        }
      ]
    },
    {
      "cell_type": "code",
      "source": [
        "test_data.shape"
      ],
      "metadata": {
        "colab": {
          "base_uri": "https://localhost:8080/"
        },
        "id": "Pw-cf647PTYl",
        "outputId": "14de7f1d-227a-45de-d220-7204c0f6ab15"
      },
      "execution_count": null,
      "outputs": [
        {
          "output_type": "execute_result",
          "data": {
            "text/plain": [
              "(3900, 6)"
            ]
          },
          "metadata": {},
          "execution_count": 19
        }
      ]
    },
    {
      "cell_type": "code",
      "source": [
        "test_data.columns"
      ],
      "metadata": {
        "colab": {
          "base_uri": "https://localhost:8080/"
        },
        "id": "a4XpxWtfPWyq",
        "outputId": "d1d1bf54-5f9e-4406-b2df-40b281ca8ab0"
      },
      "execution_count": null,
      "outputs": [
        {
          "output_type": "execute_result",
          "data": {
            "text/plain": [
              "Index(['gender', 'category', 'amt', 'city', 'job', 'is_fraud'], dtype='object')"
            ]
          },
          "metadata": {},
          "execution_count": 20
        }
      ]
    },
    {
      "cell_type": "code",
      "source": [
        "plt.figure(figsize=(10,8))\n",
        "corr=train_data.corr()\n",
        "sns.heatmap(corr,annot=True)"
      ],
      "metadata": {
        "colab": {
          "base_uri": "https://localhost:8080/",
          "height": 699
        },
        "id": "yVqz5M4whMjW",
        "outputId": "80700f01-cbdd-467e-a33a-9534b636ba2d"
      },
      "execution_count": null,
      "outputs": [
        {
          "output_type": "execute_result",
          "data": {
            "text/plain": [
              "<Axes: >"
            ]
          },
          "metadata": {},
          "execution_count": 21
        },
        {
          "output_type": "display_data",
          "data": {
            "text/plain": [
              "<Figure size 1000x800 with 2 Axes>"
            ],
            "image/png": "[encoded data removed]"
          },
          "metadata": {}
        }
      ]
    },
    {
      "cell_type": "markdown",
      "source": [
        "***Random Forest***"
      ],
      "metadata": {
        "id": "IRrtCXTwrsvb"
      }
    },
    {
      "cell_type": "code",
      "source": [
        "from sklearn.ensemble import RandomForestClassifier"
      ],
      "metadata": {
        "id": "zSiwc7BDha0g"
      },
      "execution_count": null,
      "outputs": []
    },
    {
      "cell_type": "code",
      "source": [
        "rfc=RandomForestClassifier()\n",
        "model=rfc.fit(X_train,y_train)\n",
        "prediction=model.predict(X_test)"
      ],
      "metadata": {
        "id": "9zCJSPS4hh2T"
      },
      "execution_count": null,
      "outputs": []
    },
    {
      "cell_type": "code",
      "source": [
        "from sklearn.metrics import accuracy_score"
      ],
      "metadata": {
        "id": "ECHpvlf8hiz5"
      },
      "execution_count": null,
      "outputs": []
    },
    {
      "cell_type": "code",
      "source": [
        "accuracy_score(y_test,prediction)"
      ],
      "metadata": {
        "colab": {
          "base_uri": "https://localhost:8080/"
        },
        "id": "d3fiaEvVhl8-",
        "outputId": "5626eb9a-303f-4480-fe58-f8fcc55c70da"
      },
      "execution_count": null,
      "outputs": [
        {
          "output_type": "execute_result",
          "data": {
            "text/plain": [
              "0.9966666666666667"
            ]
          },
          "metadata": {},
          "execution_count": 25
        }
      ]
    },
    {
      "cell_type": "markdown",
      "source": [
        "***Logistic Regression***"
      ],
      "metadata": {
        "id": "4aRSxADZrnmz"
      }
    },
    {
      "cell_type": "code",
      "source": [
        "from sklearn.linear_model import LogisticRegression"
      ],
      "metadata": {
        "id": "k8j6noOqhmzf"
      },
      "execution_count": null,
      "outputs": []
    },
    {
      "cell_type": "code",
      "source": [
        "lr=LogisticRegression()\n",
        "model2=lr.fit(X_train,y_train)\n",
        "prediction2=model2.predict(X_test)"
      ],
      "metadata": {
        "id": "3YvUPro9hsTn"
      },
      "execution_count": null,
      "outputs": []
    },
    {
      "cell_type": "code",
      "source": [
        "accuracy_score(y_test,prediction2)"
      ],
      "metadata": {
        "colab": {
          "base_uri": "https://localhost:8080/"
        },
        "id": "Ypbjn_nQhvPW",
        "outputId": "1f789275-001c-492b-8a2b-0613b5cb4435"
      },
      "execution_count": null,
      "outputs": [
        {
          "output_type": "execute_result",
          "data": {
            "text/plain": [
              "0.9935897435897436"
            ]
          },
          "metadata": {},
          "execution_count": 28
        }
      ]
    },
    {
      "cell_type": "markdown",
      "source": [
        "***Decision Tree***"
      ],
      "metadata": {
        "id": "KjEa19UyrjRo"
      }
    },
    {
      "cell_type": "code",
      "source": [
        "from sklearn.tree import DecisionTreeRegressor"
      ],
      "metadata": {
        "id": "p7zu4ODrhyJe"
      },
      "execution_count": null,
      "outputs": []
    },
    {
      "cell_type": "code",
      "source": [
        "dt=DecisionTreeRegressor()\n",
        "model3=dt.fit(X_train,y_train)\n",
        "prediction3=model3.predict(X_test)"
      ],
      "metadata": {
        "id": "L3i4-DpDh4-L"
      },
      "execution_count": null,
      "outputs": []
    },
    {
      "cell_type": "code",
      "source": [
        "accuracy_score(y_test,prediction3)"
      ],
      "metadata": {
        "colab": {
          "base_uri": "https://localhost:8080/"
        },
        "id": "18LPituTh79m",
        "outputId": "6f2cfb9f-9212-4a97-9ec9-605ad0d1b4a5"
      },
      "execution_count": null,
      "outputs": [
        {
          "output_type": "execute_result",
          "data": {
            "text/plain": [
              "0.9930769230769231"
            ]
          },
          "metadata": {},
          "execution_count": 31
        }
      ]
    },
    {
      "cell_type": "code",
      "source": [],
      "metadata": {
        "id": "LsnZGzokr-rC"
      },
      "execution_count": null,
      "outputs": []
    }
  ]
}